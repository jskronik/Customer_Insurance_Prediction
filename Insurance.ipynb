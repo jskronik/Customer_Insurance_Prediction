{
 "cells": [
  {
   "cell_type": "markdown",
   "metadata": {},
   "source": [
    "# Problem\n",
    "Insurance companies that sell life, health, and property and casualty insurance are using machine learning (ML) to drive improvements in customer service, fraud detection, and operational efficiency. This company provides Vehicle Insurance to its customers. I want to identify the customers segments which will be more willing to buy insurance.\n"
   ]
  },
  {
   "cell_type": "markdown",
   "metadata": {},
   "source": [
    "# Dateset informations"
   ]
  },
  {
   "cell_type": "markdown",
   "metadata": {},
   "source": [
    "* id - customerID \n",
    "* Gender - client gender\n",
    "* Age - client age \n",
    "* Driving_License - possesion of driving license \n",
    "* Region_code - client region code \n",
    "* Previously_Insured - was client previously insured \n",
    "* Vehicle_Age - represents the age of insured vehicle \n",
    "* Vehicle_Damage - was vehicle damaged \n",
    "* Annual_Premium - the price of dues\n",
    "* Policy_Sales_Channel - distribution channels to sell insurances\n",
    "* Vingate - the number of days a customer has been insured up until now \n",
    "* Response - target \n"
   ]
  },
  {
   "cell_type": "markdown",
   "metadata": {},
   "source": [
    "# Imports"
   ]
  },
  {
   "cell_type": "code",
   "execution_count": 9,
   "metadata": {},
   "outputs": [],
   "source": [
    "# data manipulation\n",
    "import pandas as pd\n",
    "import numpy as np\n",
    "\n",
    "# data visualization\n",
    "import seaborn as sns\n",
    "import matplotlib.pyplot as plt\n",
    "\n",
    "# data processing\n",
    "from sklearn.preprocessing import OneHotEncoder\n",
    "from sklearn.preprocessing import LabelEncoder\n",
    "\n",
    "# models trainng\n",
    "from sklearn.model_selection import train_test_split, GridSearchCV\n",
    "from sklearn.linear_model import LogisticRegression\n",
    "\n",
    "# models validation\n",
    "from sklearn.metrics import accuracy_score, precision_score, recall_score, f1_score, roc_auc_score, precision_recall_curve\n",
    "import scipy.stats as ss\n",
    "from sklearn.model_selection import RandomizedSearchCV\n",
    "from sklearn.model_selection import StratifiedKFold\n",
    "\n",
    "# algorithms\n",
    "from sklearn.linear_model import LogisticRegression \n",
    "from sklearn.tree import DecisionTreeClassifier\n",
    "from sklearn.ensemble import RandomForestClassifier\n",
    "import xgboost\n",
    "from xgboost.sklearn import XGBClassifier\n",
    "\n",
    "# remove annoying warnings\n",
    "import warnings\n",
    "warnings.filterwarnings('ignore')"
   ]
  },
  {
   "cell_type": "markdown",
   "metadata": {},
   "source": [
    "# Data import"
   ]
  },
  {
   "cell_type": "code",
   "execution_count": 16,
   "metadata": {},
   "outputs": [],
   "source": [
    "data = pd.read_csv('aug_train.csv')"
   ]
  },
  {
   "cell_type": "code",
   "execution_count": 13,
   "metadata": {},
   "outputs": [
    {
     "data": {
      "text/html": [
       "<div>\n",
       "<style scoped>\n",
       "    .dataframe tbody tr th:only-of-type {\n",
       "        vertical-align: middle;\n",
       "    }\n",
       "\n",
       "    .dataframe tbody tr th {\n",
       "        vertical-align: top;\n",
       "    }\n",
       "\n",
       "    .dataframe thead th {\n",
       "        text-align: right;\n",
       "    }\n",
       "</style>\n",
       "<table border=\"1\" class=\"dataframe\">\n",
       "  <thead>\n",
       "    <tr style=\"text-align: right;\">\n",
       "      <th></th>\n",
       "      <th>id</th>\n",
       "      <th>Gender</th>\n",
       "      <th>Age</th>\n",
       "      <th>Driving_License</th>\n",
       "      <th>Region_Code</th>\n",
       "      <th>Previously_Insured</th>\n",
       "      <th>Vehicle_Age</th>\n",
       "      <th>Vehicle_Damage</th>\n",
       "      <th>Annual_Premium</th>\n",
       "      <th>Policy_Sales_Channel</th>\n",
       "      <th>Vintage</th>\n",
       "      <th>Response</th>\n",
       "    </tr>\n",
       "  </thead>\n",
       "  <tbody>\n",
       "    <tr>\n",
       "      <th>0</th>\n",
       "      <td>167647</td>\n",
       "      <td>Male</td>\n",
       "      <td>22</td>\n",
       "      <td>1</td>\n",
       "      <td>7.0</td>\n",
       "      <td>1</td>\n",
       "      <td>&lt; 1 Year</td>\n",
       "      <td>No</td>\n",
       "      <td>2630.0</td>\n",
       "      <td>152.0</td>\n",
       "      <td>16</td>\n",
       "      <td>0</td>\n",
       "    </tr>\n",
       "    <tr>\n",
       "      <th>1</th>\n",
       "      <td>17163</td>\n",
       "      <td>Male</td>\n",
       "      <td>42</td>\n",
       "      <td>1</td>\n",
       "      <td>28.0</td>\n",
       "      <td>0</td>\n",
       "      <td>1-2 Year</td>\n",
       "      <td>Yes</td>\n",
       "      <td>43327.0</td>\n",
       "      <td>26.0</td>\n",
       "      <td>135</td>\n",
       "      <td>0</td>\n",
       "    </tr>\n",
       "    <tr>\n",
       "      <th>2</th>\n",
       "      <td>32023</td>\n",
       "      <td>Female</td>\n",
       "      <td>66</td>\n",
       "      <td>1</td>\n",
       "      <td>33.0</td>\n",
       "      <td>0</td>\n",
       "      <td>1-2 Year</td>\n",
       "      <td>Yes</td>\n",
       "      <td>35841.0</td>\n",
       "      <td>124.0</td>\n",
       "      <td>253</td>\n",
       "      <td>0</td>\n",
       "    </tr>\n",
       "    <tr>\n",
       "      <th>3</th>\n",
       "      <td>87447</td>\n",
       "      <td>Female</td>\n",
       "      <td>22</td>\n",
       "      <td>1</td>\n",
       "      <td>33.0</td>\n",
       "      <td>0</td>\n",
       "      <td>&lt; 1 Year</td>\n",
       "      <td>No</td>\n",
       "      <td>27645.0</td>\n",
       "      <td>152.0</td>\n",
       "      <td>69</td>\n",
       "      <td>0</td>\n",
       "    </tr>\n",
       "    <tr>\n",
       "      <th>4</th>\n",
       "      <td>501933</td>\n",
       "      <td>Male</td>\n",
       "      <td>28</td>\n",
       "      <td>1</td>\n",
       "      <td>46.0</td>\n",
       "      <td>1</td>\n",
       "      <td>&lt; 1 Year</td>\n",
       "      <td>No</td>\n",
       "      <td>29023.0</td>\n",
       "      <td>152.0</td>\n",
       "      <td>211</td>\n",
       "      <td>0</td>\n",
       "    </tr>\n",
       "  </tbody>\n",
       "</table>\n",
       "</div>"
      ],
      "text/plain": [
       "       id  Gender  Age  Driving_License  Region_Code  Previously_Insured  \\\n",
       "0  167647    Male   22                1          7.0                   1   \n",
       "1   17163    Male   42                1         28.0                   0   \n",
       "2   32023  Female   66                1         33.0                   0   \n",
       "3   87447  Female   22                1         33.0                   0   \n",
       "4  501933    Male   28                1         46.0                   1   \n",
       "\n",
       "  Vehicle_Age Vehicle_Damage  Annual_Premium  Policy_Sales_Channel  Vintage  \\\n",
       "0    < 1 Year             No          2630.0                 152.0       16   \n",
       "1    1-2 Year            Yes         43327.0                  26.0      135   \n",
       "2    1-2 Year            Yes         35841.0                 124.0      253   \n",
       "3    < 1 Year             No         27645.0                 152.0       69   \n",
       "4    < 1 Year             No         29023.0                 152.0      211   \n",
       "\n",
       "   Response  \n",
       "0         0  \n",
       "1         0  \n",
       "2         0  \n",
       "3         0  \n",
       "4         0  "
      ]
     },
     "execution_count": 13,
     "metadata": {},
     "output_type": "execute_result"
    }
   ],
   "source": [
    "data.head()"
   ]
  },
  {
   "cell_type": "markdown",
   "metadata": {},
   "source": [
    "# Basic data exploration"
   ]
  },
  {
   "cell_type": "code",
   "execution_count": 348,
   "metadata": {},
   "outputs": [
    {
     "data": {
      "text/plain": [
       "(382154, 12)"
      ]
     },
     "execution_count": 348,
     "metadata": {},
     "output_type": "execute_result"
    }
   ],
   "source": [
    "data.shape"
   ]
  },
  {
   "cell_type": "code",
   "execution_count": 349,
   "metadata": {},
   "outputs": [
    {
     "name": "stdout",
     "output_type": "stream",
     "text": [
      "<class 'pandas.core.frame.DataFrame'>\n",
      "RangeIndex: 382154 entries, 0 to 382153\n",
      "Data columns (total 12 columns):\n",
      " #   Column                Non-Null Count   Dtype  \n",
      "---  ------                --------------   -----  \n",
      " 0   id                    382154 non-null  int64  \n",
      " 1   Gender                382154 non-null  object \n",
      " 2   Age                   382154 non-null  int64  \n",
      " 3   Driving_License       382154 non-null  int64  \n",
      " 4   Region_Code           382154 non-null  float64\n",
      " 5   Previously_Insured    382154 non-null  int64  \n",
      " 6   Vehicle_Age           382154 non-null  object \n",
      " 7   Vehicle_Damage        382154 non-null  object \n",
      " 8   Annual_Premium        382154 non-null  float64\n",
      " 9   Policy_Sales_Channel  382154 non-null  float64\n",
      " 10  Vintage               382154 non-null  int64  \n",
      " 11  Response              382154 non-null  int64  \n",
      "dtypes: float64(3), int64(6), object(3)\n",
      "memory usage: 35.0+ MB\n"
     ]
    }
   ],
   "source": [
    "data.info()"
   ]
  },
  {
   "cell_type": "code",
   "execution_count": 350,
   "metadata": {},
   "outputs": [],
   "source": [
    "pd.set_option('display.float_format', '{:.3f}'.format)"
   ]
  },
  {
   "cell_type": "code",
   "execution_count": 351,
   "metadata": {
    "scrolled": true
   },
   "outputs": [
    {
     "data": {
      "text/html": [
       "<div>\n",
       "<style scoped>\n",
       "    .dataframe tbody tr th:only-of-type {\n",
       "        vertical-align: middle;\n",
       "    }\n",
       "\n",
       "    .dataframe tbody tr th {\n",
       "        vertical-align: top;\n",
       "    }\n",
       "\n",
       "    .dataframe thead th {\n",
       "        text-align: right;\n",
       "    }\n",
       "</style>\n",
       "<table border=\"1\" class=\"dataframe\">\n",
       "  <thead>\n",
       "    <tr style=\"text-align: right;\">\n",
       "      <th></th>\n",
       "      <th>id</th>\n",
       "      <th>Age</th>\n",
       "      <th>Driving_License</th>\n",
       "      <th>Region_Code</th>\n",
       "      <th>Previously_Insured</th>\n",
       "      <th>Annual_Premium</th>\n",
       "      <th>Policy_Sales_Channel</th>\n",
       "      <th>Vintage</th>\n",
       "      <th>Response</th>\n",
       "    </tr>\n",
       "  </thead>\n",
       "  <tbody>\n",
       "    <tr>\n",
       "      <th>count</th>\n",
       "      <td>382154.000</td>\n",
       "      <td>382154.000</td>\n",
       "      <td>382154.000</td>\n",
       "      <td>382154.000</td>\n",
       "      <td>382154.000</td>\n",
       "      <td>382154.000</td>\n",
       "      <td>382154.000</td>\n",
       "      <td>382154.000</td>\n",
       "      <td>382154.000</td>\n",
       "    </tr>\n",
       "    <tr>\n",
       "      <th>mean</th>\n",
       "      <td>234392.953</td>\n",
       "      <td>38.546</td>\n",
       "      <td>0.998</td>\n",
       "      <td>26.407</td>\n",
       "      <td>0.489</td>\n",
       "      <td>30711.271</td>\n",
       "      <td>111.940</td>\n",
       "      <td>154.189</td>\n",
       "      <td>0.164</td>\n",
       "    </tr>\n",
       "    <tr>\n",
       "      <th>std</th>\n",
       "      <td>139527.487</td>\n",
       "      <td>15.227</td>\n",
       "      <td>0.043</td>\n",
       "      <td>13.181</td>\n",
       "      <td>0.500</td>\n",
       "      <td>17061.596</td>\n",
       "      <td>54.287</td>\n",
       "      <td>83.735</td>\n",
       "      <td>0.370</td>\n",
       "    </tr>\n",
       "    <tr>\n",
       "      <th>min</th>\n",
       "      <td>1.000</td>\n",
       "      <td>20.000</td>\n",
       "      <td>0.000</td>\n",
       "      <td>0.000</td>\n",
       "      <td>0.000</td>\n",
       "      <td>2630.000</td>\n",
       "      <td>1.000</td>\n",
       "      <td>10.000</td>\n",
       "      <td>0.000</td>\n",
       "    </tr>\n",
       "    <tr>\n",
       "      <th>25%</th>\n",
       "      <td>115006.250</td>\n",
       "      <td>25.000</td>\n",
       "      <td>1.000</td>\n",
       "      <td>15.000</td>\n",
       "      <td>0.000</td>\n",
       "      <td>24546.000</td>\n",
       "      <td>26.000</td>\n",
       "      <td>81.000</td>\n",
       "      <td>0.000</td>\n",
       "    </tr>\n",
       "    <tr>\n",
       "      <th>50%</th>\n",
       "      <td>230461.500</td>\n",
       "      <td>36.000</td>\n",
       "      <td>1.000</td>\n",
       "      <td>28.000</td>\n",
       "      <td>0.000</td>\n",
       "      <td>31692.000</td>\n",
       "      <td>145.000</td>\n",
       "      <td>154.000</td>\n",
       "      <td>0.000</td>\n",
       "    </tr>\n",
       "    <tr>\n",
       "      <th>75%</th>\n",
       "      <td>345434.750</td>\n",
       "      <td>49.000</td>\n",
       "      <td>1.000</td>\n",
       "      <td>35.000</td>\n",
       "      <td>1.000</td>\n",
       "      <td>39447.750</td>\n",
       "      <td>152.000</td>\n",
       "      <td>227.000</td>\n",
       "      <td>0.000</td>\n",
       "    </tr>\n",
       "    <tr>\n",
       "      <th>max</th>\n",
       "      <td>508145.000</td>\n",
       "      <td>85.000</td>\n",
       "      <td>1.000</td>\n",
       "      <td>52.000</td>\n",
       "      <td>1.000</td>\n",
       "      <td>540165.000</td>\n",
       "      <td>163.000</td>\n",
       "      <td>299.000</td>\n",
       "      <td>1.000</td>\n",
       "    </tr>\n",
       "  </tbody>\n",
       "</table>\n",
       "</div>"
      ],
      "text/plain": [
       "              id        Age  Driving_License  Region_Code  Previously_Insured  \\\n",
       "count 382154.000 382154.000       382154.000   382154.000          382154.000   \n",
       "mean  234392.953     38.546            0.998       26.407               0.489   \n",
       "std   139527.487     15.227            0.043       13.181               0.500   \n",
       "min        1.000     20.000            0.000        0.000               0.000   \n",
       "25%   115006.250     25.000            1.000       15.000               0.000   \n",
       "50%   230461.500     36.000            1.000       28.000               0.000   \n",
       "75%   345434.750     49.000            1.000       35.000               1.000   \n",
       "max   508145.000     85.000            1.000       52.000               1.000   \n",
       "\n",
       "       Annual_Premium  Policy_Sales_Channel    Vintage   Response  \n",
       "count      382154.000            382154.000 382154.000 382154.000  \n",
       "mean        30711.271               111.940    154.189      0.164  \n",
       "std         17061.596                54.287     83.735      0.370  \n",
       "min          2630.000                 1.000     10.000      0.000  \n",
       "25%         24546.000                26.000     81.000      0.000  \n",
       "50%         31692.000               145.000    154.000      0.000  \n",
       "75%         39447.750               152.000    227.000      0.000  \n",
       "max        540165.000               163.000    299.000      1.000  "
      ]
     },
     "execution_count": 351,
     "metadata": {},
     "output_type": "execute_result"
    }
   ],
   "source": [
    "data.describe()"
   ]
  },
  {
   "cell_type": "markdown",
   "metadata": {},
   "source": [
    "# Checking for missing values"
   ]
  },
  {
   "cell_type": "code",
   "execution_count": 352,
   "metadata": {
    "scrolled": true
   },
   "outputs": [
    {
     "data": {
      "text/plain": [
       "id                      0\n",
       "Gender                  0\n",
       "Age                     0\n",
       "Driving_License         0\n",
       "Region_Code             0\n",
       "Previously_Insured      0\n",
       "Vehicle_Age             0\n",
       "Vehicle_Damage          0\n",
       "Annual_Premium          0\n",
       "Policy_Sales_Channel    0\n",
       "Vintage                 0\n",
       "Response                0\n",
       "dtype: int64"
      ]
     },
     "execution_count": 352,
     "metadata": {},
     "output_type": "execute_result"
    }
   ],
   "source": [
    "nans = data.isnull().sum()\n",
    "nans"
   ]
  },
  {
   "cell_type": "markdown",
   "metadata": {},
   "source": [
    "There are no missing values in this dataset."
   ]
  },
  {
   "cell_type": "markdown",
   "metadata": {},
   "source": [
    "## Creating lists of indexes for numeric and categorial columns."
   ]
  },
  {
   "cell_type": "markdown",
   "metadata": {},
   "source": [
    "In this step I am creating two lists - one for numeric features and other for categorial. Then I will use it to make a separate analysis for those types of features."
   ]
  },
  {
   "cell_type": "code",
   "execution_count": 353,
   "metadata": {},
   "outputs": [
    {
     "data": {
      "text/plain": [
       "['id',\n",
       " 'Age',\n",
       " 'Driving_License',\n",
       " 'Region_Code',\n",
       " 'Previously_Insured',\n",
       " 'Annual_Premium',\n",
       " 'Policy_Sales_Channel',\n",
       " 'Vintage',\n",
       " 'Response']"
      ]
     },
     "execution_count": 353,
     "metadata": {},
     "output_type": "execute_result"
    }
   ],
   "source": [
    "numerical_columns = data.select_dtypes(include=np.number).columns.tolist()\n",
    "numerical_columns"
   ]
  },
  {
   "cell_type": "code",
   "execution_count": 354,
   "metadata": {},
   "outputs": [
    {
     "data": {
      "text/plain": [
       "['id',\n",
       " 'Age',\n",
       " 'Driving_License',\n",
       " 'Region_Code',\n",
       " 'Previously_Insured',\n",
       " 'Annual_Premium',\n",
       " 'Policy_Sales_Channel',\n",
       " 'Vintage']"
      ]
     },
     "execution_count": 354,
     "metadata": {},
     "output_type": "execute_result"
    }
   ],
   "source": [
    "# Response is our target not a decision variable, so I removed it from numerical list.\n",
    "numerical_columns.remove('Response')\n",
    "numerical_columns"
   ]
  },
  {
   "cell_type": "code",
   "execution_count": 355,
   "metadata": {},
   "outputs": [
    {
     "data": {
      "text/plain": [
       "['Gender', 'Vehicle_Age', 'Vehicle_Damage']"
      ]
     },
     "execution_count": 355,
     "metadata": {},
     "output_type": "execute_result"
    }
   ],
   "source": [
    "categorial_columns = data.select_dtypes(exclude=np.number).columns.tolist()\n",
    "categorial_columns"
   ]
  },
  {
   "cell_type": "markdown",
   "metadata": {},
   "source": [
    "# Is dataset imbalanced?"
   ]
  },
  {
   "cell_type": "markdown",
   "metadata": {},
   "source": [
    "In this step I want to check if our dataset is imbalanced. Imbalanced datasets are demanding for classification problems, because there is an unequal distribuation of classes. For that reason models have poor predictive performance, specifically for the minority class. If our problem will be imbalanced, I will have to use methods for imbalanced datasets to improve models accuracy."
   ]
  },
  {
   "cell_type": "code",
   "execution_count": 356,
   "metadata": {},
   "outputs": [],
   "source": [
    "# making a target variable\n",
    "target = data.Response"
   ]
  },
  {
   "cell_type": "code",
   "execution_count": 360,
   "metadata": {
    "scrolled": true
   },
   "outputs": [
    {
     "data": {
      "image/png": "[encoded data removed]",
      "text/plain": [
       "<Figure size 576x288 with 1 Axes>"
      ]
     },
     "metadata": {},
     "output_type": "display_data"
    }
   ],
   "source": [
    "plt.figure(figsize=(8,4))\n",
    "ax = sns.countplot(target)\n",
    "plt.title('Distribution of  Response')\n",
    "plt.ylabel('Frequency [%]')\n",
    "plt.ylim(top=400000)\n",
    "for p in ax.patches:\n",
    "    percentage = '{:.2f}%'.format(100 * p.get_height()/len(target))\n",
    "    ax.annotate(percentage, (p.get_x()+0.30, p.get_height()+10000))\n",
    "plt.show()"
   ]
  },
  {
   "cell_type": "markdown",
   "metadata": {},
   "source": [
    "Problem is imbalanced because only 16,38% of customers are interested in having vehicle insurance. This bias in the training dataset can influence machine learning algorithms, leading some to ignore the minority class entirely. Therefore I will use resampling methods to make this problem balanced and imporve machine learning algorithms."
   ]
  },
  {
   "cell_type": "markdown",
   "metadata": {},
   "source": [
    "# Numerical columns analysis."
   ]
  },
  {
   "cell_type": "markdown",
   "metadata": {},
   "source": [
    "In this step I am creating two loops. First one is for counting and checking unique values for each numeric feature. Second one is for plotting histograms."
   ]
  },
  {
   "cell_type": "code",
   "execution_count": 361,
   "metadata": {},
   "outputs": [
    {
     "name": "stdout",
     "output_type": "stream",
     "text": [
      "id\n",
      "unique values number: 382154\n",
      "[167647  17163  32023 ... 165293 383241 401019]\n",
      "\n",
      "Age\n",
      "unique values number: 66\n",
      "[22 42 66 28 25 51 38 45 26 33 76 23 49 52 24 21 48 35 36 44 60 57 56 73\n",
      " 54 50 72 58 41 27 61 59 29 64 37 46 31 68 39 63 40 30 62 69 65 78 79 55\n",
      " 74 47 34 67 53 70 32 43 71 20 77 75 80 81 85 83 82 84]\n",
      "\n",
      "Driving_License\n",
      "unique values number: 2\n",
      "[1 0]\n",
      "\n",
      "Region_Code\n",
      "unique values number: 53\n",
      "[ 7. 28. 33. 46. 25.  8. 41. 39. 13. 14. 36.  3. 43. 45. 48. 11. 30. 15.\n",
      "  6. 50. 38. 19. 34. 22. 29. 35. 12. 37.  4. 10. 40. 24. 31. 21.  2. 52.\n",
      "  9. 49.  5. 47.  1. 20. 42. 27. 26. 32. 18. 16. 17. 51.  0. 23. 44.]\n",
      "\n",
      "Previously_Insured\n",
      "unique values number: 2\n",
      "[1 0]\n",
      "\n",
      "Annual_Premium\n",
      "unique values number: 48993\n",
      "[ 2630. 43327. 35841. ... 68063. 67176. 49322.]\n",
      "\n",
      "Policy_Sales_Channel\n",
      "unique values number: 156\n",
      "[152.  26. 124. 122. 158. 157. 156. 160.  24. 153.  55.   1.   8.  88.\n",
      "  13.  11. 163. 151.   7.   9.  15.  31. 120.  30. 150.  25.  61. 154.\n",
      "  64. 155. 113. 108. 125.  52. 121.  16.  44.  14.  29.   4.  54.   3.\n",
      " 111.  60.  12.  46. 103.  42.  65. 136. 109.  91.  34. 106.  22.  53.\n",
      " 139. 127. 105.  21. 131.  37.  23.  45. 159.  98.  18.  19. 137. 145.\n",
      " 128. 135.  59.  40. 138.  82. 116. 129.  56.  10.   2. 107. 147.  17.\n",
      "  35.  47. 140.  32. 134.  36.  39. 132.  94.  97. 119. 148. 133. 118.\n",
      "  63.  93.  83.  80.  86.  92. 130. 110.  81.  58.  78.  90.   6.  20.\n",
      " 114. 115.  68. 146.  70. 104.  49.  69.  73.  89.  75.  79.  96.  95.\n",
      "  48.  67.  51.  38.  76. 117.  66.  27.  57. 126.  28.  84. 101. 100.\n",
      "  87.  99. 149.  62.  74. 144.  33. 143.  50.  43. 102. 123.  41. 141.\n",
      "  71. 112.]\n",
      "\n",
      "Vintage\n",
      "unique values number: 290\n",
      "[ 16 135 253  69 211  23 209  51 262 217  73  12 165  34 263 155 151 176\n",
      " 177 240  44 256 254 279 293 252  42 270 271  30 247 143 248 267 109  68\n",
      " 255  38 224 236  74 202  21 287 161  92 181  14 275  22 188  47  95  49\n",
      "  77 123 225  98  96 187 204 282  79 292 136 119 290 128 168 167 199 288\n",
      " 272 281  27 296  39 170 213 250 116 114 102 237 166 159 158 110 276 172\n",
      " 106 246 259  76  45  41 121 118  25 103 261 105 101 163  13 257 183 115\n",
      " 117 129 107 138 242  31  82 249  71 220  64 192 182  63 233 191 284 141\n",
      " 162 180 113 111 265 140 169  48 235 234 227 196 294  15  58 251 216 133\n",
      "  86  40 134  84 149  88 208 152 144 142 239  18 266 238  57 285 278 178\n",
      " 283  80 147 214 157 130 228  28  33  60 274 100 218 139 195  70 146  37\n",
      "  29  83 164  91 241 148 194 185 124 223  20 291  89 120 280  93  55  85\n",
      "  19 173 207 201 260 273  11 200  10  61 160 126 189 243 277 150 215 231\n",
      " 221 171 299 258 145 219  26  94 244 297  17 245 154 229  75 210 298 127\n",
      "  46  59  52  43 175  87  24 212  50 222 122 295  81 289 206  97  72  66\n",
      "  67  56  54 112  53 179 131  65  62 269 268  99  36  32 197 193 205 153\n",
      " 156 108 137  90 132 184  35 264 203  78 230 232 104 186 174 125 226 190\n",
      " 286 198]\n",
      "\n"
     ]
    }
   ],
   "source": [
    "for col in numerical_columns:\n",
    "    print(f'{col}')\n",
    "    print(f'unique values number: {data[col].nunique()}')\n",
    "    print(f'{data[col].unique()}')\n",
    "    print()"
   ]
  },
  {
   "cell_type": "code",
   "execution_count": 386,
   "metadata": {},
   "outputs": [
    {
     "data": {
      "image/png": "[encoded data removed]",
      "text/plain": [
       "<Figure size 720x360 with 1 Axes>"
      ]
     },
     "metadata": {},
     "output_type": "display_data"
    },
    {
     "data": {
      "image/png": "[encoded data removed]",
      "text/plain": [
       "<Figure size 720x360 with 1 Axes>"
      ]
     },
     "metadata": {},
     "output_type": "display_data"
    },
    {
     "data": {
      "image/png": "[encoded data removed]",
      "text/plain": [
       "<Figure size 720x360 with 1 Axes>"
      ]
     },
     "metadata": {},
     "output_type": "display_data"
    },
    {
     "data": {
      "image/png": "[encoded data removed]",
      "text/plain": [
       "<Figure size 720x360 with 1 Axes>"
      ]
     },
     "metadata": {},
     "output_type": "display_data"
    },
    {
     "data": {
      "image/png": "[encoded data removed]",
      "text/plain": [
       "<Figure size 720x360 with 1 Axes>"
      ]
     },
     "metadata": {},
     "output_type": "display_data"
    },
    {
     "data": {
      "image/png": "[encoded data removed]",
      "text/plain": [
       "<Figure size 720x360 with 1 Axes>"
      ]
     },
     "metadata": {},
     "output_type": "display_data"
    },
    {
     "data": {
      "image/png": "[encoded data removed]",
      "text/plain": [
       "<Figure size 720x360 with 1 Axes>"
      ]
     },
     "metadata": {},
     "output_type": "display_data"
    },
    {
     "data": {
      "image/png": "[encoded data removed]",
      "text/plain": [
       "<Figure size 720x360 with 1 Axes>"
      ]
     },
     "metadata": {},
     "output_type": "display_data"
    }
   ],
   "source": [
    "for col in numerical_columns:\n",
    "        plt.subplots(figsize=(10,5))\n",
    "        sns.histplot(data[col], label='train', bins=30)"
   ]
  },
  {
   "cell_type": "markdown",
   "metadata": {},
   "source": [
    "### Age"
   ]
  },
  {
   "cell_type": "code",
   "execution_count": 363,
   "metadata": {},
   "outputs": [
    {
     "data": {
      "text/plain": [
       "24    26197\n",
       "23    24424\n",
       "25    21056\n",
       "22    20844\n",
       "21    15770\n",
       "      ...  \n",
       "81       52\n",
       "82       32\n",
       "83       24\n",
       "84       14\n",
       "85       10\n",
       "Name: Age, Length: 66, dtype: int64"
      ]
     },
     "execution_count": 363,
     "metadata": {},
     "output_type": "execute_result"
    }
   ],
   "source": [
    "data.Age.value_counts()"
   ]
  },
  {
   "cell_type": "markdown",
   "metadata": {},
   "source": [
    "The vast majority of ages are between 20 and 50, I opt to create bins here to reduce the number of potential ages."
   ]
  },
  {
   "cell_type": "code",
   "execution_count": 364,
   "metadata": {},
   "outputs": [
    {
     "data": {
      "text/plain": [
       "0.4079402544523935"
      ]
     },
     "execution_count": 364,
     "metadata": {},
     "output_type": "execute_result"
    }
   ],
   "source": [
    "data[data['Age']<30]['Age'].count()/len(data)"
   ]
  },
  {
   "cell_type": "code",
   "execution_count": 365,
   "metadata": {},
   "outputs": [
    {
     "data": {
      "text/plain": [
       "0.3714261789749682"
      ]
     },
     "execution_count": 365,
     "metadata": {},
     "output_type": "execute_result"
    }
   ],
   "source": [
    "data['Age'][data.Age.between(30,50)].count()/len(data)"
   ]
  },
  {
   "cell_type": "code",
   "execution_count": 366,
   "metadata": {},
   "outputs": [
    {
     "data": {
      "text/plain": [
       "0.22063356657263825"
      ]
     },
     "execution_count": 366,
     "metadata": {},
     "output_type": "execute_result"
    }
   ],
   "source": [
    "data['Age'][data['Age']>50].count()/len(data)"
   ]
  },
  {
   "cell_type": "markdown",
   "metadata": {},
   "source": [
    "### Driving license"
   ]
  },
  {
   "cell_type": "code",
   "execution_count": 367,
   "metadata": {
    "scrolled": true
   },
   "outputs": [
    {
     "data": {
      "text/plain": [
       "1    381431\n",
       "0       723\n",
       "Name: Driving_License, dtype: int64"
      ]
     },
     "execution_count": 367,
     "metadata": {},
     "output_type": "execute_result"
    }
   ],
   "source": [
    "data.Driving_License.value_counts()"
   ]
  },
  {
   "cell_type": "code",
   "execution_count": 368,
   "metadata": {},
   "outputs": [
    {
     "data": {
      "text/plain": [
       "1   0.998\n",
       "0   0.002\n",
       "Name: Driving_License, dtype: float64"
      ]
     },
     "execution_count": 368,
     "metadata": {},
     "output_type": "execute_result"
    }
   ],
   "source": [
    "data.Driving_License.value_counts(normalize=True)"
   ]
  },
  {
   "cell_type": "markdown",
   "metadata": {},
   "source": [
    "There are only 0,002 % of drivers who do not have driving license. People without a drivers license would not be interested in vehicle insurance, for that reason we can drop this column."
   ]
  },
  {
   "cell_type": "markdown",
   "metadata": {},
   "source": [
    "### Region code"
   ]
  },
  {
   "cell_type": "code",
   "execution_count": 369,
   "metadata": {},
   "outputs": [
    {
     "data": {
      "text/plain": [
       "28.000    107199\n",
       "8.000      33941\n",
       "46.000     20203\n",
       "41.000     19090\n",
       "15.000     13071\n",
       "Name: Region_Code, dtype: int64"
      ]
     },
     "execution_count": 369,
     "metadata": {},
     "output_type": "execute_result"
    }
   ],
   "source": [
    "data.Region_Code.value_counts().head()"
   ]
  },
  {
   "cell_type": "code",
   "execution_count": 370,
   "metadata": {},
   "outputs": [
    {
     "data": {
      "text/plain": [
       "28.000   0.281\n",
       "8.000    0.089\n",
       "46.000   0.053\n",
       "41.000   0.050\n",
       "15.000   0.034\n",
       "Name: Region_Code, dtype: float64"
      ]
     },
     "execution_count": 370,
     "metadata": {},
     "output_type": "execute_result"
    }
   ],
   "source": [
    "data.Region_Code.value_counts(normalize=True).head()"
   ]
  },
  {
   "cell_type": "markdown",
   "metadata": {},
   "source": [
    "We can see that the majority of region codes is number 28 which is approx 28% of all codes and number 8 which is approx 9%. We can consider making 3 region classes - '28', '8' and 'other'. To make it possible I will change type of this feature to string and then use one hot encoding on it."
   ]
  },
  {
   "cell_type": "markdown",
   "metadata": {},
   "source": [
    "### Annual premium"
   ]
  },
  {
   "cell_type": "code",
   "execution_count": 371,
   "metadata": {
    "scrolled": true
   },
   "outputs": [
    {
     "data": {
      "text/plain": [
       "2630.000     62876\n",
       "69856.000      133\n",
       "38452.000       47\n",
       "45179.000       45\n",
       "36086.000       40\n",
       "             ...  \n",
       "59458.000        1\n",
       "55907.000        1\n",
       "59514.000        1\n",
       "21088.000        1\n",
       "54157.000        1\n",
       "Name: Annual_Premium, Length: 48993, dtype: int64"
      ]
     },
     "execution_count": 371,
     "metadata": {},
     "output_type": "execute_result"
    }
   ],
   "source": [
    "data.Annual_Premium.value_counts()"
   ]
  },
  {
   "cell_type": "code",
   "execution_count": 372,
   "metadata": {
    "scrolled": true
   },
   "outputs": [
    {
     "data": {
      "text/plain": [
       "<matplotlib.axes._subplots.AxesSubplot at 0x7f60e48b3310>"
      ]
     },
     "execution_count": 372,
     "metadata": {},
     "output_type": "execute_result"
    },
    {
     "data": {
      "image/png": "[encoded data removed]",
      "text/plain": [
       "<Figure size 921.6x633.6 with 1 Axes>"
      ]
     },
     "metadata": {},
     "output_type": "display_data"
    }
   ],
   "source": [
    "sns.boxplot(data.Annual_Premium)"
   ]
  },
  {
   "cell_type": "markdown",
   "metadata": {},
   "source": [
    "We can see that there are a lot of outliers in annual premium values, therefore I wont remove them, because they can be helpful indicators for our model. I will handle it by creating bins for value ranges."
   ]
  },
  {
   "cell_type": "code",
   "execution_count": 373,
   "metadata": {
    "scrolled": false
   },
   "outputs": [
    {
     "data": {
      "text/plain": [
       "0.43467031615526724"
      ]
     },
     "execution_count": 373,
     "metadata": {},
     "output_type": "execute_result"
    }
   ],
   "source": [
    "data[data['Annual_Premium']<30000]['Annual_Premium'].count()/len(data)"
   ]
  },
  {
   "cell_type": "code",
   "execution_count": 374,
   "metadata": {},
   "outputs": [
    {
     "data": {
      "text/plain": [
       "0.48050524134249545"
      ]
     },
     "execution_count": 374,
     "metadata": {},
     "output_type": "execute_result"
    }
   ],
   "source": [
    "data[data.Annual_Premium.between(30000,50000)]['Annual_Premium'].count()/len(data)"
   ]
  },
  {
   "cell_type": "code",
   "execution_count": 375,
   "metadata": {},
   "outputs": [
    {
     "data": {
      "text/plain": [
       "0.08482444250223732"
      ]
     },
     "execution_count": 375,
     "metadata": {},
     "output_type": "execute_result"
    }
   ],
   "source": [
    "data[data['Annual_Premium']>50000]['Annual_Premium'].count()/len(data)"
   ]
  },
  {
   "cell_type": "markdown",
   "metadata": {},
   "source": [
    "### Policy sales channel"
   ]
  },
  {
   "cell_type": "code",
   "execution_count": 376,
   "metadata": {
    "scrolled": true
   },
   "outputs": [
    {
     "data": {
      "text/plain": [
       "152.000    137422\n",
       "26.000      81566\n",
       "124.000     73315\n",
       "160.000     21045\n",
       "156.000     10106\n",
       "            ...  \n",
       "143.000         1\n",
       "144.000         1\n",
       "84.000          1\n",
       "141.000         1\n",
       "41.000          1\n",
       "Name: Policy_Sales_Channel, Length: 156, dtype: int64"
      ]
     },
     "execution_count": 376,
     "metadata": {},
     "output_type": "execute_result"
    }
   ],
   "source": [
    "data.Policy_Sales_Channel.value_counts()"
   ]
  },
  {
   "cell_type": "markdown",
   "metadata": {},
   "source": [
    "We can see 5 main policy sales channel which are '152', '26', '124', '160', '156'. For the rest of channels we can make group 'other' and put them into it. For that reason I will change it to the string type and then make one hot encoding. "
   ]
  },
  {
   "cell_type": "markdown",
   "metadata": {},
   "source": [
    "# Numerical conclusion.\n",
    "\n",
    "* id - drop\n",
    "* Driving_License - drop\n",
    "* Vintage - drop\n",
    "* Age - bins(<30, 30-50, >50)\n",
    "* Region_code - (28, 8, other)\n",
    "* Policy_Sales_Channel - ('152', '26', '124', '160', '156',  'other')\n",
    "* Annual_Premium - bins(<30000, 30000-50000, >50000)"
   ]
  },
  {
   "cell_type": "markdown",
   "metadata": {},
   "source": [
    "# Categorial columns."
   ]
  },
  {
   "cell_type": "markdown",
   "metadata": {},
   "source": [
    "Same as in prevoius step but for categorial columns. Instead of plotting hists I am plotting bars which counts observations in each categorical."
   ]
  },
  {
   "cell_type": "code",
   "execution_count": 377,
   "metadata": {},
   "outputs": [
    {
     "name": "stdout",
     "output_type": "stream",
     "text": [
      "Gender\n",
      "unique values number: 2\n",
      "['Male' 'Female']\n",
      "\n",
      "Vehicle_Age\n",
      "unique values number: 3\n",
      "['< 1 Year' '1-2 Year' '> 2 Years']\n",
      "\n",
      "Vehicle_Damage\n",
      "unique values number: 2\n",
      "['No' 'Yes']\n",
      "\n"
     ]
    }
   ],
   "source": [
    "for col in categorial_columns:\n",
    "    print(f'{col}')\n",
    "    print(f'unique values number: {data[col].nunique()}')\n",
    "    print(f'{data[col].unique()}')\n",
    "    print()"
   ]
  },
  {
   "cell_type": "code",
   "execution_count": 382,
   "metadata": {
    "scrolled": true
   },
   "outputs": [
    {
     "data": {
      "image/png": "[encoded data removed]",
      "text/plain": [
       "<Figure size 432x288 with 1 Axes>"
      ]
     },
     "metadata": {},
     "output_type": "display_data"
    },
    {
     "data": {
      "image/png": "[encoded data removed]",
      "text/plain": [
       "<Figure size 432x288 with 1 Axes>"
      ]
     },
     "metadata": {},
     "output_type": "display_data"
    },
    {
     "data": {
      "image/png": "[encoded data removed]",
      "text/plain": [
       "<Figure size 432x288 with 1 Axes>"
      ]
     },
     "metadata": {},
     "output_type": "display_data"
    }
   ],
   "source": [
    "for col in categorial_columns:\n",
    "        plt.subplots(figsize=(6,4))\n",
    "        sns.countplot(data[col], label='train')"
   ]
  },
  {
   "cell_type": "markdown",
   "metadata": {},
   "source": [
    "### Gender"
   ]
  },
  {
   "cell_type": "code",
   "execution_count": 77,
   "metadata": {},
   "outputs": [
    {
     "data": {
      "text/plain": [
       "Male      205603\n",
       "Female    176551\n",
       "Name: Gender, dtype: int64"
      ]
     },
     "execution_count": 77,
     "metadata": {},
     "output_type": "execute_result"
    }
   ],
   "source": [
    "data.Gender.value_counts()"
   ]
  },
  {
   "cell_type": "markdown",
   "metadata": {},
   "source": [
    "### Vehicle age"
   ]
  },
  {
   "cell_type": "code",
   "execution_count": 78,
   "metadata": {},
   "outputs": [
    {
     "data": {
      "text/plain": [
       "1-2 Year     200176\n",
       "< 1 Year     166353\n",
       "> 2 Years     15625\n",
       "Name: Vehicle_Age, dtype: int64"
      ]
     },
     "execution_count": 78,
     "metadata": {},
     "output_type": "execute_result"
    }
   ],
   "source": [
    "data.Vehicle_Age.value_counts()"
   ]
  },
  {
   "cell_type": "markdown",
   "metadata": {},
   "source": [
    "### Vehicle damage"
   ]
  },
  {
   "cell_type": "code",
   "execution_count": 79,
   "metadata": {
    "scrolled": true
   },
   "outputs": [
    {
     "data": {
      "text/plain": [
       "No     198501\n",
       "Yes    183653\n",
       "Name: Vehicle_Damage, dtype: int64"
      ]
     },
     "execution_count": 79,
     "metadata": {},
     "output_type": "execute_result"
    }
   ],
   "source": [
    "data.Vehicle_Damage.value_counts()"
   ]
  },
  {
   "cell_type": "markdown",
   "metadata": {},
   "source": [
    "#  Categorical conclusion.\n",
    "\n",
    "* Gender - binary \n",
    "* Vehicle_Age - one hot encoding\n",
    "* Vehicle_Damage - binary "
   ]
  },
  {
   "cell_type": "markdown",
   "metadata": {},
   "source": [
    "# Correlation matrix analysis."
   ]
  },
  {
   "cell_type": "markdown",
   "metadata": {},
   "source": [
    "There I want to create the correlation matrix to show which variable is having a high or low correlation in respect to another variable. First I am creating loop to encode categorial features using LabelEncoder and then I am plotting it using heatmap and concatenate function."
   ]
  },
  {
   "cell_type": "code",
   "execution_count": 387,
   "metadata": {
    "scrolled": true
   },
   "outputs": [
    {
     "data": {
      "text/html": [
       "<div>\n",
       "<style scoped>\n",
       "    .dataframe tbody tr th:only-of-type {\n",
       "        vertical-align: middle;\n",
       "    }\n",
       "\n",
       "    .dataframe tbody tr th {\n",
       "        vertical-align: top;\n",
       "    }\n",
       "\n",
       "    .dataframe thead th {\n",
       "        text-align: right;\n",
       "    }\n",
       "</style>\n",
       "<table border=\"1\" class=\"dataframe\">\n",
       "  <thead>\n",
       "    <tr style=\"text-align: right;\">\n",
       "      <th></th>\n",
       "      <th>Gender</th>\n",
       "      <th>Age</th>\n",
       "      <th>Driving_License</th>\n",
       "      <th>Region_Code</th>\n",
       "      <th>Previously_Insured</th>\n",
       "      <th>Vehicle_Age</th>\n",
       "      <th>Vehicle_Damage</th>\n",
       "      <th>Annual_Premium</th>\n",
       "      <th>Policy_Sales_Channel</th>\n",
       "      <th>Vintage</th>\n",
       "      <th>Response</th>\n",
       "    </tr>\n",
       "  </thead>\n",
       "  <tbody>\n",
       "    <tr>\n",
       "      <th>0</th>\n",
       "      <td>1</td>\n",
       "      <td>22</td>\n",
       "      <td>1</td>\n",
       "      <td>7.000</td>\n",
       "      <td>1</td>\n",
       "      <td>1</td>\n",
       "      <td>0</td>\n",
       "      <td>2630.000</td>\n",
       "      <td>152.000</td>\n",
       "      <td>16</td>\n",
       "      <td>0</td>\n",
       "    </tr>\n",
       "    <tr>\n",
       "      <th>1</th>\n",
       "      <td>1</td>\n",
       "      <td>42</td>\n",
       "      <td>1</td>\n",
       "      <td>28.000</td>\n",
       "      <td>0</td>\n",
       "      <td>0</td>\n",
       "      <td>1</td>\n",
       "      <td>43327.000</td>\n",
       "      <td>26.000</td>\n",
       "      <td>135</td>\n",
       "      <td>0</td>\n",
       "    </tr>\n",
       "    <tr>\n",
       "      <th>2</th>\n",
       "      <td>0</td>\n",
       "      <td>66</td>\n",
       "      <td>1</td>\n",
       "      <td>33.000</td>\n",
       "      <td>0</td>\n",
       "      <td>0</td>\n",
       "      <td>1</td>\n",
       "      <td>35841.000</td>\n",
       "      <td>124.000</td>\n",
       "      <td>253</td>\n",
       "      <td>0</td>\n",
       "    </tr>\n",
       "    <tr>\n",
       "      <th>3</th>\n",
       "      <td>0</td>\n",
       "      <td>22</td>\n",
       "      <td>1</td>\n",
       "      <td>33.000</td>\n",
       "      <td>0</td>\n",
       "      <td>1</td>\n",
       "      <td>0</td>\n",
       "      <td>27645.000</td>\n",
       "      <td>152.000</td>\n",
       "      <td>69</td>\n",
       "      <td>0</td>\n",
       "    </tr>\n",
       "    <tr>\n",
       "      <th>4</th>\n",
       "      <td>1</td>\n",
       "      <td>28</td>\n",
       "      <td>1</td>\n",
       "      <td>46.000</td>\n",
       "      <td>1</td>\n",
       "      <td>1</td>\n",
       "      <td>0</td>\n",
       "      <td>29023.000</td>\n",
       "      <td>152.000</td>\n",
       "      <td>211</td>\n",
       "      <td>0</td>\n",
       "    </tr>\n",
       "  </tbody>\n",
       "</table>\n",
       "</div>"
      ],
      "text/plain": [
       "   Gender  Age  Driving_License  Region_Code  Previously_Insured  Vehicle_Age  \\\n",
       "0       1   22                1        7.000                   1            1   \n",
       "1       1   42                1       28.000                   0            0   \n",
       "2       0   66                1       33.000                   0            0   \n",
       "3       0   22                1       33.000                   0            1   \n",
       "4       1   28                1       46.000                   1            1   \n",
       "\n",
       "   Vehicle_Damage  Annual_Premium  Policy_Sales_Channel  Vintage  Response  \n",
       "0               0        2630.000               152.000       16         0  \n",
       "1               1       43327.000                26.000      135         0  \n",
       "2               1       35841.000               124.000      253         0  \n",
       "3               0       27645.000               152.000       69         0  \n",
       "4               0       29023.000               152.000      211         0  "
      ]
     },
     "execution_count": 387,
     "metadata": {},
     "output_type": "execute_result"
    }
   ],
   "source": [
    "data_heat = data.drop('id', axis=1)\n",
    "\n",
    "for c in categorial_columns:\n",
    "    le = LabelEncoder()\n",
    "    le.fit(list(data_heat[c]))\n",
    "    data_heat[c] = le.transform(list(data_heat[c])) \n",
    "data_heat.head()"
   ]
  },
  {
   "cell_type": "code",
   "execution_count": 390,
   "metadata": {},
   "outputs": [
    {
     "data": {
      "text/plain": [
       "<matplotlib.axes._subplots.AxesSubplot at 0x7f60e438fd90>"
      ]
     },
     "execution_count": 390,
     "metadata": {},
     "output_type": "execute_result"
    },
    {
     "data": {
      "image/png": "[encoded data removed]",
      "text/plain": [
       "<Figure size 1080x864 with 2 Axes>"
      ]
     },
     "metadata": {},
     "output_type": "display_data"
    }
   ],
   "source": [
    "plt.figure(figsize=(15, 12))\n",
    "sns.heatmap(pd.concat([data_heat, target], axis=1).corr(),annot=True, cmap=\"vlag\") "
   ]
  },
  {
   "cell_type": "markdown",
   "metadata": {},
   "source": [
    "We can see that the strongest negative correlation occur between Vehicle Damage and Previously Insured. It can results from the fact that people who had their vehicle damaged once decidet to bought insurance. From the heatmap we can also read a moderate negative correlation between Policy Sales Channel and Age and between Age and Vehicle Age."
   ]
  },
  {
   "cell_type": "markdown",
   "metadata": {},
   "source": [
    "# Data preparation."
   ]
  },
  {
   "cell_type": "markdown",
   "metadata": {},
   "source": [
    "In this step I will create a function to prepare dataset for modeling. Function contains 4 sections. Firstly it drops features which we rejected in data analysis, secondly it changes feature type from numeric to string to enable encoding, thirdly it makes transformations on numerical columns in our case its binning. The last step transforming categorial columns - it makes mapping and binary encoding. Function returns prepared data with use of dummies encoding."
   ]
  },
  {
   "cell_type": "code",
   "execution_count": 17,
   "metadata": {},
   "outputs": [],
   "source": [
    "# mapping function for region code\n",
    "def map_Region_Code(x):\n",
    "    if x not in ['28', '8']:\n",
    "        return 'Other'\n",
    "    else:\n",
    "        return x"
   ]
  },
  {
   "cell_type": "code",
   "execution_count": 18,
   "metadata": {},
   "outputs": [],
   "source": [
    "# mapping function for policy sales channel\n",
    "def map_Policy_Sales_Channel(x):\n",
    "    if x not in ['152', '26', '124', '160', '156']:\n",
    "        return 'Other'\n",
    "    else:\n",
    "        return x"
   ]
  },
  {
   "cell_type": "code",
   "execution_count": 19,
   "metadata": {},
   "outputs": [],
   "source": [
    "def prepare_dataset(df):\n",
    "    \n",
    "    # columns to drop\n",
    "    df.pop('id')\n",
    "    df.pop('Vintage')\n",
    "    df.pop('Driving_License')\n",
    "    \n",
    "    # numerical to string\n",
    "    df['Policy_Sales_Channel'] = df['Policy_Sales_Channel'].astype(int).astype('str')\n",
    "    df['Region_Code'] = df['Region_Code'].astype(int).astype('str')\n",
    "\n",
    "    \n",
    "    # numerical columns\n",
    "    df['Age'] = pd.cut(x=df['Age'], bins=[0,30,50,100], right=False, labels=['1','2','3'])\n",
    "    df['Annual_Premium'] = pd.cut(x=df['Annual_Premium'], bins=[0,30000,50000,600000], right=False, labels=['1','2','3'])\n",
    "    \n",
    "    # categorial columns\n",
    "    df['Policy_Sales_Channel'] = df['Policy_Sales_Channel'].apply(lambda x: map_Policy_Sales_Channel(x))\n",
    "    df['Region_Code'] = df['Region_Code'].apply(lambda x: map_Region_Code(x))\n",
    "    df['Gender'] = df['Gender'].apply(lambda x: 1 if x=='Male' else 0) \n",
    "    df['Vehicle_Damage'] = df['Vehicle_Damage'].apply(lambda x: 1 if x=='No' else 0)\n",
    "    df['Vehicle_Age'].replace({'1-2 Year' : '1',\n",
    "                                '< 1 Year' : '0',\n",
    "                                '> 2 Years' : '2'}, inplace=True)\n",
    "    return pd.get_dummies(df, drop_first=True)\n",
    "    "
   ]
  },
  {
   "cell_type": "code",
   "execution_count": 20,
   "metadata": {},
   "outputs": [
    {
     "data": {
      "text/html": [
       "<div>\n",
       "<style scoped>\n",
       "    .dataframe tbody tr th:only-of-type {\n",
       "        vertical-align: middle;\n",
       "    }\n",
       "\n",
       "    .dataframe tbody tr th {\n",
       "        vertical-align: top;\n",
       "    }\n",
       "\n",
       "    .dataframe thead th {\n",
       "        text-align: right;\n",
       "    }\n",
       "</style>\n",
       "<table border=\"1\" class=\"dataframe\">\n",
       "  <thead>\n",
       "    <tr style=\"text-align: right;\">\n",
       "      <th></th>\n",
       "      <th>Gender</th>\n",
       "      <th>Previously_Insured</th>\n",
       "      <th>Vehicle_Damage</th>\n",
       "      <th>Response</th>\n",
       "      <th>Age_2</th>\n",
       "      <th>Age_3</th>\n",
       "      <th>Region_Code_8</th>\n",
       "      <th>Region_Code_Other</th>\n",
       "      <th>Vehicle_Age_1</th>\n",
       "      <th>Vehicle_Age_2</th>\n",
       "      <th>Annual_Premium_2</th>\n",
       "      <th>Annual_Premium_3</th>\n",
       "      <th>Policy_Sales_Channel_152</th>\n",
       "      <th>Policy_Sales_Channel_156</th>\n",
       "      <th>Policy_Sales_Channel_160</th>\n",
       "      <th>Policy_Sales_Channel_26</th>\n",
       "      <th>Policy_Sales_Channel_Other</th>\n",
       "    </tr>\n",
       "  </thead>\n",
       "  <tbody>\n",
       "    <tr>\n",
       "      <th>0</th>\n",
       "      <td>1</td>\n",
       "      <td>1</td>\n",
       "      <td>1</td>\n",
       "      <td>0</td>\n",
       "      <td>0</td>\n",
       "      <td>0</td>\n",
       "      <td>0</td>\n",
       "      <td>1</td>\n",
       "      <td>0</td>\n",
       "      <td>0</td>\n",
       "      <td>0</td>\n",
       "      <td>0</td>\n",
       "      <td>1</td>\n",
       "      <td>0</td>\n",
       "      <td>0</td>\n",
       "      <td>0</td>\n",
       "      <td>0</td>\n",
       "    </tr>\n",
       "    <tr>\n",
       "      <th>1</th>\n",
       "      <td>1</td>\n",
       "      <td>0</td>\n",
       "      <td>0</td>\n",
       "      <td>0</td>\n",
       "      <td>1</td>\n",
       "      <td>0</td>\n",
       "      <td>0</td>\n",
       "      <td>0</td>\n",
       "      <td>1</td>\n",
       "      <td>0</td>\n",
       "      <td>1</td>\n",
       "      <td>0</td>\n",
       "      <td>0</td>\n",
       "      <td>0</td>\n",
       "      <td>0</td>\n",
       "      <td>1</td>\n",
       "      <td>0</td>\n",
       "    </tr>\n",
       "    <tr>\n",
       "      <th>2</th>\n",
       "      <td>0</td>\n",
       "      <td>0</td>\n",
       "      <td>0</td>\n",
       "      <td>0</td>\n",
       "      <td>0</td>\n",
       "      <td>1</td>\n",
       "      <td>0</td>\n",
       "      <td>1</td>\n",
       "      <td>1</td>\n",
       "      <td>0</td>\n",
       "      <td>1</td>\n",
       "      <td>0</td>\n",
       "      <td>0</td>\n",
       "      <td>0</td>\n",
       "      <td>0</td>\n",
       "      <td>0</td>\n",
       "      <td>0</td>\n",
       "    </tr>\n",
       "    <tr>\n",
       "      <th>3</th>\n",
       "      <td>0</td>\n",
       "      <td>0</td>\n",
       "      <td>1</td>\n",
       "      <td>0</td>\n",
       "      <td>0</td>\n",
       "      <td>0</td>\n",
       "      <td>0</td>\n",
       "      <td>1</td>\n",
       "      <td>0</td>\n",
       "      <td>0</td>\n",
       "      <td>0</td>\n",
       "      <td>0</td>\n",
       "      <td>1</td>\n",
       "      <td>0</td>\n",
       "      <td>0</td>\n",
       "      <td>0</td>\n",
       "      <td>0</td>\n",
       "    </tr>\n",
       "    <tr>\n",
       "      <th>4</th>\n",
       "      <td>1</td>\n",
       "      <td>1</td>\n",
       "      <td>1</td>\n",
       "      <td>0</td>\n",
       "      <td>0</td>\n",
       "      <td>0</td>\n",
       "      <td>0</td>\n",
       "      <td>1</td>\n",
       "      <td>0</td>\n",
       "      <td>0</td>\n",
       "      <td>0</td>\n",
       "      <td>0</td>\n",
       "      <td>1</td>\n",
       "      <td>0</td>\n",
       "      <td>0</td>\n",
       "      <td>0</td>\n",
       "      <td>0</td>\n",
       "    </tr>\n",
       "  </tbody>\n",
       "</table>\n",
       "</div>"
      ],
      "text/plain": [
       "   Gender  Previously_Insured  Vehicle_Damage  Response  Age_2  Age_3  \\\n",
       "0       1                   1               1         0      0      0   \n",
       "1       1                   0               0         0      1      0   \n",
       "2       0                   0               0         0      0      1   \n",
       "3       0                   0               1         0      0      0   \n",
       "4       1                   1               1         0      0      0   \n",
       "\n",
       "   Region_Code_8  Region_Code_Other  Vehicle_Age_1  Vehicle_Age_2  \\\n",
       "0              0                  1              0              0   \n",
       "1              0                  0              1              0   \n",
       "2              0                  1              1              0   \n",
       "3              0                  1              0              0   \n",
       "4              0                  1              0              0   \n",
       "\n",
       "   Annual_Premium_2  Annual_Premium_3  Policy_Sales_Channel_152  \\\n",
       "0                 0                 0                         1   \n",
       "1                 1                 0                         0   \n",
       "2                 1                 0                         0   \n",
       "3                 0                 0                         1   \n",
       "4                 0                 0                         1   \n",
       "\n",
       "   Policy_Sales_Channel_156  Policy_Sales_Channel_160  \\\n",
       "0                         0                         0   \n",
       "1                         0                         0   \n",
       "2                         0                         0   \n",
       "3                         0                         0   \n",
       "4                         0                         0   \n",
       "\n",
       "   Policy_Sales_Channel_26  Policy_Sales_Channel_Other  \n",
       "0                        0                           0  \n",
       "1                        1                           0  \n",
       "2                        0                           0  \n",
       "3                        0                           0  \n",
       "4                        0                           0  "
      ]
     },
     "execution_count": 20,
     "metadata": {},
     "output_type": "execute_result"
    }
   ],
   "source": [
    "processed_data = prepare_dataset(data)\n",
    "processed_data.head()"
   ]
  },
  {
   "cell_type": "markdown",
   "metadata": {},
   "source": [
    "# Modeling."
   ]
  },
  {
   "cell_type": "markdown",
   "metadata": {},
   "source": [
    "Now i am splitting processed dataset into X - features and y - target. To split data into train/test I will use StratifiedKFold function. I chose this one because it will enable me to make cross-validation od data as well."
   ]
  },
  {
   "cell_type": "code",
   "execution_count": 128,
   "metadata": {},
   "outputs": [],
   "source": [
    "X = processed_data.drop('Response',axis=1)\n",
    "y = processed_data.Response"
   ]
  },
  {
   "cell_type": "code",
   "execution_count": 129,
   "metadata": {},
   "outputs": [],
   "source": [
    "# defining folds parameters\n",
    "folds = StratifiedKFold(n_splits=3, shuffle=True, random_state=42)"
   ]
  },
  {
   "cell_type": "markdown",
   "metadata": {},
   "source": [
    "poniewaz problem niezbalansowany to rezugnujemy z metryki accuracy\n"
   ]
  },
  {
   "cell_type": "markdown",
   "metadata": {},
   "source": [
    "### Choosing metrics to measure model performance"
   ]
  },
  {
   "cell_type": "markdown",
   "metadata": {},
   "source": [
    "To measure model performance I've choosen two metrics roc_auc and f1_score. Roc_auc will show how good at ranking predictions my model is and f1_score will show weighted average of the precision and recall. In this case I will try to maximize f1_score, becasue dataset is imbalanced and I care more about the positive class."
   ]
  },
  {
   "cell_type": "markdown",
   "metadata": {},
   "source": [
    "### Defining baseline models"
   ]
  },
  {
   "cell_type": "markdown",
   "metadata": {},
   "source": [
    "I am defining models without parameters which will be baseline for future modeling."
   ]
  },
  {
   "cell_type": "code",
   "execution_count": 130,
   "metadata": {},
   "outputs": [],
   "source": [
    "models = [LogisticRegression(),\n",
    "          DecisionTreeClassifier(),\n",
    "          RandomForestClassifier(),\n",
    "          XGBClassifier()]\n",
    "\n",
    "names = ['LR', 'DT', 'RF', 'XGB']"
   ]
  },
  {
   "cell_type": "markdown",
   "metadata": {},
   "source": [
    "### Defining models with params"
   ]
  },
  {
   "cell_type": "markdown",
   "metadata": {},
   "source": [
    "Here I am defining tuned models with parameters on which we will try to get best prediction scores."
   ]
  },
  {
   "cell_type": "code",
   "execution_count": 131,
   "metadata": {},
   "outputs": [],
   "source": [
    "models_param = [LogisticRegression(class_weight='balanced', solver='liblinear', max_iter=300),\n",
    "                DecisionTreeClassifier(max_depth=5, criterion='gini', max_features=0.8, min_samples_split=5),\n",
    "                RandomForestClassifier(criterion='entropy', max_depth=30, random_state=42),\n",
    "                XGBClassifier(max_depth=6, learning_rate=0.1, min_child_weight=5, reg_lambda=2, max_leaves=12)]\n",
    "\n",
    "names = ['LR', 'DT', 'RF', 'XGB']"
   ]
  },
  {
   "cell_type": "markdown",
   "metadata": {},
   "source": [
    "### Defining metric function for baseline models"
   ]
  },
  {
   "cell_type": "markdown",
   "metadata": {},
   "source": [
    "I am creating function which will print baseline models chosen metrics (auc and f1 score).The function cross-validate models and then append metric scores to its variables. As the output we get mean metrics scores form each baseline cross-validated model."
   ]
  },
  {
   "cell_type": "code",
   "execution_count": 146,
   "metadata": {},
   "outputs": [],
   "source": [
    "def get_models_metrics(models, names, X, y):  \n",
    "\n",
    "    \n",
    "    for model, name in zip(models, names):\n",
    "        \n",
    "        score_auc = []\n",
    "        score_f1 = []\n",
    "        probas_model = np.zeros(len(X))\n",
    "        \n",
    "        for train_index, test_index in folds.split(X, y):\n",
    "            X_train, X_test = X.iloc[train_index], X.iloc[test_index]\n",
    "            y_train, y_test = y.iloc[train_index], y.iloc[test_index]\n",
    "        \n",
    "            model.fit(X_train, y_train)\n",
    "            probas_model[test_index] = model.predict_proba(X_test)[:, 1]\n",
    "        \n",
    "            score_auc.append(roc_auc_score(y_test, probas_model[test_index]))\n",
    "            score_f1.append(f1_score(y_test, np.where(probas_model[test_index] > 0.5, 1, 0)))\n",
    "        print(f'{name}: AUC = %.5f, F1-score = %.5f' % (np.mean(score_auc), np.mean(score_f1) ))"
   ]
  },
  {
   "cell_type": "markdown",
   "metadata": {},
   "source": [
    "### Checking baseline models scores"
   ]
  },
  {
   "cell_type": "code",
   "execution_count": 147,
   "metadata": {},
   "outputs": [
    {
     "name": "stdout",
     "output_type": "stream",
     "text": [
      "LR: AUC = 0.87350, F1-score = 0.21874\n",
      "DT: AUC = 0.88142, F1-score = 0.29864\n",
      "RF: AUC = 0.88174, F1-score = 0.29816\n",
      "XGB: AUC = 0.88204, F1-score = 0.30305\n"
     ]
    }
   ],
   "source": [
    "get_models_metrics(models, names, X, y)"
   ]
  },
  {
   "cell_type": "markdown",
   "metadata": {},
   "source": [
    "### Defining function with tuned models and their metrics"
   ]
  },
  {
   "cell_type": "markdown",
   "metadata": {},
   "source": [
    "This function works almost the same as get_models_metrics function. The only change is that I am operating on tuned models and I am choosing model to evaluate by passing its name to the function. It also contains the new parameter thres which allows me to calibrate threshold."
   ]
  },
  {
   "cell_type": "code",
   "execution_count": 162,
   "metadata": {},
   "outputs": [],
   "source": [
    "def tuned_models_metrics(name, X, y, thres=0.5):\n",
    "    \n",
    "    if name == 'lr':\n",
    "        model = LogisticRegression(class_weight='balanced', solver='liblinear', max_iter=300)\n",
    "\n",
    "    elif name == 'dt':\n",
    "        model = DecisionTreeClassifier(max_depth=5, criterion='gini', max_features=0.8, min_samples_split=5)\n",
    "        \n",
    "    elif name == 'rf':\n",
    "        model = RandomForestClassifier(criterion='entropy', max_depth=30, random_state=42)\n",
    "        \n",
    "    elif name == 'xgb':\n",
    "        model = XGBClassifier(max_depth=6, learning_rate=0.1, min_child_weight=5, reg_lambda=2, max_leaves=12)\n",
    "        \n",
    "    else:\n",
    "        print('Error, invalid model')\n",
    "        \n",
    "\n",
    "    \n",
    "    score_auc = []\n",
    "    probas_model = np.zeros(len(X))\n",
    "    score_f1 = []\n",
    "    \n",
    "    for train_index, test_index in folds.split(X, y):\n",
    "        X_train, X_test = X.iloc[train_index], X.iloc[test_index]\n",
    "        y_train, y_test = y.iloc[train_index], y.iloc[test_index]\n",
    "        \n",
    "        model.fit(X_train, y_train)                 \n",
    "        probas_model[test_index] = model.predict_proba(X_test)[:, 1]\n",
    "        \n",
    "        score_auc.append(roc_auc_score(y_test, probas_model[test_index]))\n",
    "        score_f1.append(f1_score(y_test, np.where(probas_model[test_index] > thres, 1, 0)))\n",
    "    \n",
    "    print(f'{name}: AUC = %.5f, F1-score = %.5f' % (np.mean(score_auc), np.mean(score_f1) ))"
   ]
  },
  {
   "cell_type": "markdown",
   "metadata": {},
   "source": [
    "### Checking tuned models scores"
   ]
  },
  {
   "cell_type": "code",
   "execution_count": 163,
   "metadata": {},
   "outputs": [
    {
     "name": "stdout",
     "output_type": "stream",
     "text": [
      "lr: AUC = 0.87319, F1-score = 0.54549\n"
     ]
    }
   ],
   "source": [
    "tuned_models_metrics('lr', X, y)"
   ]
  },
  {
   "cell_type": "code",
   "execution_count": 164,
   "metadata": {},
   "outputs": [
    {
     "name": "stdout",
     "output_type": "stream",
     "text": [
      "dt: AUC = 0.87380, F1-score = 0.20814\n"
     ]
    }
   ],
   "source": [
    "tuned_models_metrics('dt', X, y)"
   ]
  },
  {
   "cell_type": "code",
   "execution_count": 165,
   "metadata": {},
   "outputs": [
    {
     "name": "stdout",
     "output_type": "stream",
     "text": [
      "rf: AUC = 0.88180, F1-score = 0.29811\n"
     ]
    }
   ],
   "source": [
    "tuned_models_metrics('rf', X, y)"
   ]
  },
  {
   "cell_type": "code",
   "execution_count": 166,
   "metadata": {},
   "outputs": [
    {
     "name": "stdout",
     "output_type": "stream",
     "text": [
      "xgb: AUC = 0.88356, F1-score = 0.29426\n"
     ]
    }
   ],
   "source": [
    "tuned_models_metrics('xgb', X, y)"
   ]
  },
  {
   "cell_type": "markdown",
   "metadata": {},
   "source": [
    "We can see that AUC scores for baseline models and tuned models are quite high, but F1-scores are very bad."
   ]
  },
  {
   "cell_type": "markdown",
   "metadata": {},
   "source": [
    "### greed for xgb"
   ]
  },
  {
   "cell_type": "code",
   "execution_count": 23,
   "metadata": {
    "scrolled": true
   },
   "outputs": [
    {
     "data": {
      "text/plain": [
       "GridSearchCV(cv=4,\n",
       "             estimator=XGBClassifier(learning_rate=0.10957265958868737,\n",
       "                                     max_depth=5, min_child_weight=15,\n",
       "                                     n_estimators=200,\n",
       "                                     reg_lambda=1.3403244203429763),\n",
       "             param_grid={'max_depth': [3, 4, 5],\n",
       "                         'min_child_weight': [3, 5, 7, 10, 15]})"
      ]
     },
     "execution_count": 23,
     "metadata": {},
     "output_type": "execute_result"
    }
   ],
   "source": [
    "xgb = XGBClassifier(**cv.best_params_)\n",
    "\n",
    "params = {\"max_depth\": [3,4,5],\n",
    "         \"min_child_weight\": [3, 5, 7, 10 ,15]}\n",
    "cv2 = GridSearchCV(param_grid=params, estimator=xgb,cv=4)\n",
    "cv2.fit(X_train,y_train)"
   ]
  },
  {
   "cell_type": "code",
   "execution_count": 24,
   "metadata": {},
   "outputs": [
    {
     "data": {
      "text/plain": [
       "(0.8413302260384619, {'max_depth': 5, 'min_child_weight': 10})"
      ]
     },
     "execution_count": 24,
     "metadata": {},
     "output_type": "execute_result"
    }
   ],
   "source": [
    "cv2.best_score_, cv2.best_params_"
   ]
  },
  {
   "cell_type": "markdown",
   "metadata": {},
   "source": [
    "# Threshold callibration"
   ]
  },
  {
   "cell_type": "markdown",
   "metadata": {},
   "source": [
    "For those classification problems that have a severe class imbalance, the default threshold can result in poor performance. As such, a simple and straightforward approach to improving the performance of a classifier that predicts probabilities on an imbalanced classification problem is to tune the threshold used to map probabilities to class labels.\n",
    "\n",
    "source: https://machinelearningmastery.com/threshold-moving-for-imbalanced-classification/"
   ]
  },
  {
   "cell_type": "markdown",
   "metadata": {},
   "source": [
    "This function hepls with finding approximately the best threshold for my tunned models."
   ]
  },
  {
   "cell_type": "code",
   "execution_count": 169,
   "metadata": {},
   "outputs": [],
   "source": [
    "def threshold_calibration(models, names, X, y):\n",
    "    threshold_list = {}\n",
    "    thresholds = []\n",
    "    fscore = []\n",
    "    ix = []\n",
    "    folds1 = StratifiedKFold(n_splits=3, shuffle=True, random_state=42)\n",
    "    for model, name in zip(models, names):\n",
    "        for train_index, test_index in folds1.split(X, y):\n",
    "            X_train, X_test = X.iloc[train_index], X.iloc[test_index]\n",
    "            y_train, y_test = y.iloc[train_index], y.iloc[test_index]\n",
    "        \n",
    "            model.fit(X_train, y_train)\n",
    "\n",
    "            threshold_list[name] = model.predict_proba(X_test)[:, 1]\n",
    "            precision, recall, thresholds = precision_recall_curve(y_test, threshold_list[name])\n",
    "            fscore = (2 * precision * recall) / (precision+ recall)\n",
    "            ix = np.nanargmax(fscore)\n",
    "            print(name)\n",
    "            print('Best Threshold=%.2f, F-measure=%.5f' % (thresholds[ix], fscore[ix]))\n",
    "  "
   ]
  },
  {
   "cell_type": "markdown",
   "metadata": {},
   "source": [
    "# Resampling dataset"
   ]
  },
  {
   "cell_type": "markdown",
   "metadata": {},
   "source": [
    "Resampling is a method that consists of drawing repeated samples from the original data samples. "
   ]
  },
  {
   "cell_type": "code",
   "execution_count": 171,
   "metadata": {},
   "outputs": [],
   "source": [
    "# imports for resampling\n",
    "from imblearn.under_sampling import RandomUnderSampler\n",
    "from imblearn.over_sampling import RandomOverSampler, SMOTE"
   ]
  },
  {
   "cell_type": "markdown",
   "metadata": {},
   "source": [
    "### Undersampling"
   ]
  },
  {
   "cell_type": "markdown",
   "metadata": {},
   "source": [
    "Undersampling involves randomly selecting examples from the majority class and deleting them from the training dataset. In the random under-sampling, the majority class instances are discarded at random until a more balanced distribution is reached.\n",
    "\n",
    "source: https://betterprogramming.pub/resampling-imbalanced-data-and-applying-ml-techniques-91ebce40ff4d"
   ]
  },
  {
   "cell_type": "code",
   "execution_count": 176,
   "metadata": {},
   "outputs": [],
   "source": [
    "rus = RandomUnderSampler(random_state=42)\n",
    "X_res, y_res = rus.fit_resample(X, y)"
   ]
  },
  {
   "cell_type": "code",
   "execution_count": 177,
   "metadata": {},
   "outputs": [
    {
     "data": {
      "text/plain": [
       "((125202, 12), (125202,))"
      ]
     },
     "execution_count": 177,
     "metadata": {},
     "output_type": "execute_result"
    }
   ],
   "source": [
    "X_res.shape, y_res.shape"
   ]
  },
  {
   "cell_type": "code",
   "execution_count": 178,
   "metadata": {},
   "outputs": [
    {
     "data": {
      "text/plain": [
       "0.5"
      ]
     },
     "execution_count": 178,
     "metadata": {},
     "output_type": "execute_result"
    }
   ],
   "source": [
    "y_res.sum()/len(y_res)"
   ]
  },
  {
   "cell_type": "markdown",
   "metadata": {},
   "source": [
    "We can se that now we have equal number of examples in target."
   ]
  },
  {
   "cell_type": "code",
   "execution_count": 179,
   "metadata": {},
   "outputs": [
    {
     "name": "stdout",
     "output_type": "stream",
     "text": [
      "LR: AUC = 0.87176, F1-score = 0.84166\n",
      "DT: AUC = 0.87852, F1-score = 0.84310\n",
      "RF: AUC = 0.87958, F1-score = 0.84334\n",
      "XGB: AUC = 0.88073, F1-score = 0.84538\n"
     ]
    }
   ],
   "source": [
    "get_models_metrics(models, names, X_res, y_res)"
   ]
  },
  {
   "cell_type": "code",
   "execution_count": 180,
   "metadata": {},
   "outputs": [
    {
     "name": "stdout",
     "output_type": "stream",
     "text": [
      "lr: AUC = 0.87176, F1-score = 0.84166\n"
     ]
    }
   ],
   "source": [
    "tuned_models_metrics('lr', X_res, y_res)"
   ]
  },
  {
   "cell_type": "code",
   "execution_count": 181,
   "metadata": {},
   "outputs": [
    {
     "name": "stdout",
     "output_type": "stream",
     "text": [
      "dt: AUC = 0.87373, F1-score = 0.84153\n"
     ]
    }
   ],
   "source": [
    "tuned_models_metrics('dt', X_res, y_res)"
   ]
  },
  {
   "cell_type": "code",
   "execution_count": 182,
   "metadata": {},
   "outputs": [
    {
     "name": "stdout",
     "output_type": "stream",
     "text": [
      "rf: AUC = 0.87963, F1-score = 0.84326\n"
     ]
    }
   ],
   "source": [
    "tuned_models_metrics('rf', X_res, y_res)"
   ]
  },
  {
   "cell_type": "code",
   "execution_count": 183,
   "metadata": {},
   "outputs": [
    {
     "name": "stdout",
     "output_type": "stream",
     "text": [
      "xgb: AUC = 0.88208, F1-score = 0.84512\n"
     ]
    }
   ],
   "source": [
    "tuned_models_metrics('xgb', X_res, y_res)"
   ]
  },
  {
   "cell_type": "code",
   "execution_count": 184,
   "metadata": {},
   "outputs": [
    {
     "name": "stdout",
     "output_type": "stream",
     "text": [
      "LR\n",
      "Best Threshold=0.45, F-measure=0.84315\n",
      "LR\n",
      "Best Threshold=0.44, F-measure=0.84339\n",
      "LR\n",
      "Best Threshold=0.45, F-measure=0.84318\n",
      "DT\n",
      "Best Threshold=0.52, F-measure=0.84250\n",
      "DT\n",
      "Best Threshold=0.54, F-measure=0.84297\n",
      "DT\n",
      "Best Threshold=0.45, F-measure=0.84411\n",
      "RF\n",
      "Best Threshold=0.39, F-measure=0.84552\n",
      "RF\n",
      "Best Threshold=0.42, F-measure=0.84592\n",
      "RF\n",
      "Best Threshold=0.36, F-measure=0.84515\n",
      "XGB\n",
      "Best Threshold=0.41, F-measure=0.84661\n",
      "XGB\n",
      "Best Threshold=0.42, F-measure=0.84663\n",
      "XGB\n",
      "Best Threshold=0.44, F-measure=0.84650\n"
     ]
    }
   ],
   "source": [
    "threshold_calibration(models_param, names, X_res, y_res)"
   ]
  },
  {
   "cell_type": "code",
   "execution_count": 185,
   "metadata": {},
   "outputs": [
    {
     "name": "stdout",
     "output_type": "stream",
     "text": [
      "xgb: AUC = 0.88208, F1-score = 0.84642\n"
     ]
    }
   ],
   "source": [
    "tuned_models_metrics('xgb', X_res, y_res, thres=0.42)"
   ]
  },
  {
   "cell_type": "markdown",
   "metadata": {},
   "source": [
    "We can se that undersampling hepled a lot for our models. The best score we got is for tunned XGBoost with threshold = 0.42"
   ]
  },
  {
   "cell_type": "markdown",
   "metadata": {},
   "source": [
    "Now lets try undersampling one more time but with making minority class 2 time smaller than majority."
   ]
  },
  {
   "cell_type": "code",
   "execution_count": 188,
   "metadata": {},
   "outputs": [],
   "source": [
    "rus = RandomUnderSampler(sampling_strategy=0.5) \n",
    "X_res, y_res = rus.fit_resample(X, y)"
   ]
  },
  {
   "cell_type": "code",
   "execution_count": 189,
   "metadata": {},
   "outputs": [
    {
     "data": {
      "text/plain": [
       "((187803, 12), (187803,))"
      ]
     },
     "execution_count": 189,
     "metadata": {},
     "output_type": "execute_result"
    }
   ],
   "source": [
    "X_res.shape, y_res.shape"
   ]
  },
  {
   "cell_type": "code",
   "execution_count": 191,
   "metadata": {
    "scrolled": true
   },
   "outputs": [
    {
     "data": {
      "text/plain": [
       "0.3333333333333333"
      ]
     },
     "execution_count": 191,
     "metadata": {},
     "output_type": "execute_result"
    }
   ],
   "source": [
    "y_res.sum()/len(y_res)"
   ]
  },
  {
   "cell_type": "code",
   "execution_count": 192,
   "metadata": {},
   "outputs": [
    {
     "name": "stdout",
     "output_type": "stream",
     "text": [
      "LR: AUC = 0.87313, F1-score = 0.73246\n",
      "DT: AUC = 0.88091, F1-score = 0.73570\n",
      "RF: AUC = 0.88137, F1-score = 0.73622\n",
      "XGB: AUC = 0.88176, F1-score = 0.73446\n"
     ]
    }
   ],
   "source": [
    "get_models_metrics(models, names, X_res, y_res)"
   ]
  },
  {
   "cell_type": "markdown",
   "metadata": {},
   "source": [
    "We can see that we got worse scores on with this minority class."
   ]
  },
  {
   "cell_type": "markdown",
   "metadata": {},
   "source": [
    "### Tomek Links"
   ]
  },
  {
   "cell_type": "code",
   "execution_count": 240,
   "metadata": {},
   "outputs": [
    {
     "name": "stdout",
     "output_type": "stream",
     "text": [
      "CPU times: user 18min 52s, sys: 690 ms, total: 18min 53s\n",
      "Wall time: 6min 47s\n"
     ]
    }
   ],
   "source": [
    "%%time\n",
    "from imblearn.under_sampling import TomekLinks\n",
    "tl = TomekLinks(sampling_strategy='auto', n_jobs=-1)\n",
    "X_res, y_res = tl.fit_resample(X, y)"
   ]
  },
  {
   "cell_type": "code",
   "execution_count": 241,
   "metadata": {},
   "outputs": [
    {
     "data": {
      "text/plain": [
       "((382154, 12), (382154, 12))"
      ]
     },
     "execution_count": 241,
     "metadata": {},
     "output_type": "execute_result"
    }
   ],
   "source": [
    "X.shape, X_res.shape"
   ]
  },
  {
   "cell_type": "markdown",
   "metadata": {},
   "source": [
    "We can see that Tomek Links didnt remove any observation from our dataset. I think it can be the result of that algorithm didnt find any pairs of very close instances, but of opposite classes, therefore it coulndt remove instances of the majority class. Tomek Links is inefficient algorithm for our dataset."
   ]
  },
  {
   "cell_type": "markdown",
   "metadata": {},
   "source": [
    "### Oversampling"
   ]
  },
  {
   "cell_type": "markdown",
   "metadata": {},
   "source": [
    "Oversampling involves randomly duplicating examples from the minority class and adding them to the training dataset."
   ]
  },
  {
   "cell_type": "code",
   "execution_count": 204,
   "metadata": {},
   "outputs": [],
   "source": [
    "ros = RandomOverSampler(sampling_strategy='auto', random_state=42)\n",
    "X_res, y_res = ros.fit_resample(X, y)"
   ]
  },
  {
   "cell_type": "code",
   "execution_count": 205,
   "metadata": {},
   "outputs": [
    {
     "data": {
      "text/plain": [
       "((639106, 12), (382154, 12))"
      ]
     },
     "execution_count": 205,
     "metadata": {},
     "output_type": "execute_result"
    }
   ],
   "source": [
    "X_res.shape, X.shape"
   ]
  },
  {
   "cell_type": "code",
   "execution_count": 206,
   "metadata": {},
   "outputs": [
    {
     "data": {
      "text/plain": [
       "0.5"
      ]
     },
     "execution_count": 206,
     "metadata": {},
     "output_type": "execute_result"
    }
   ],
   "source": [
    "y_res.sum()/len(y_res)"
   ]
  },
  {
   "cell_type": "code",
   "execution_count": 207,
   "metadata": {},
   "outputs": [
    {
     "name": "stdout",
     "output_type": "stream",
     "text": [
      "LR: AUC = 0.87310, F1-score = 0.84216\n",
      "DT: AUC = 0.88376, F1-score = 0.84558\n",
      "RF: AUC = 0.88381, F1-score = 0.84564\n",
      "XGB: AUC = 0.88227, F1-score = 0.84556\n"
     ]
    }
   ],
   "source": [
    "get_models_metrics(models, names, X_res, y_res)"
   ]
  },
  {
   "cell_type": "code",
   "execution_count": 208,
   "metadata": {},
   "outputs": [
    {
     "name": "stdout",
     "output_type": "stream",
     "text": [
      "lr: AUC = 0.87310, F1-score = 0.84216\n"
     ]
    }
   ],
   "source": [
    "tuned_models_metrics('lr', X_res, y_res)"
   ]
  },
  {
   "cell_type": "code",
   "execution_count": 209,
   "metadata": {},
   "outputs": [
    {
     "name": "stdout",
     "output_type": "stream",
     "text": [
      "dt: AUC = 0.87317, F1-score = 0.84295\n"
     ]
    }
   ],
   "source": [
    "tuned_models_metrics('dt', X_res, y_res)"
   ]
  },
  {
   "cell_type": "code",
   "execution_count": 210,
   "metadata": {},
   "outputs": [
    {
     "name": "stdout",
     "output_type": "stream",
     "text": [
      "rf: AUC = 0.88381, F1-score = 0.84556\n"
     ]
    }
   ],
   "source": [
    "tuned_models_metrics('rf', X_res, y_res)"
   ]
  },
  {
   "cell_type": "code",
   "execution_count": 211,
   "metadata": {},
   "outputs": [
    {
     "name": "stdout",
     "output_type": "stream",
     "text": [
      "xgb: AUC = 0.88381, F1-score = 0.84578\n"
     ]
    }
   ],
   "source": [
    "tuned_models_metrics('xgb', X_res, y_res)"
   ]
  },
  {
   "cell_type": "code",
   "execution_count": 212,
   "metadata": {},
   "outputs": [
    {
     "name": "stdout",
     "output_type": "stream",
     "text": [
      "LR\n",
      "Best Threshold=0.45, F-measure=0.84300\n",
      "LR\n",
      "Best Threshold=0.44, F-measure=0.84473\n",
      "LR\n",
      "Best Threshold=0.45, F-measure=0.84405\n",
      "DT\n",
      "Best Threshold=0.41, F-measure=0.84301\n",
      "DT\n",
      "Best Threshold=0.52, F-measure=0.84371\n",
      "DT\n",
      "Best Threshold=0.52, F-measure=0.84340\n",
      "RF\n",
      "Best Threshold=0.41, F-measure=0.84658\n",
      "RF\n",
      "Best Threshold=0.44, F-measure=0.84819\n",
      "RF\n",
      "Best Threshold=0.43, F-measure=0.84750\n",
      "XGB\n",
      "Best Threshold=0.44, F-measure=0.84658\n",
      "XGB\n",
      "Best Threshold=0.43, F-measure=0.84797\n",
      "XGB\n",
      "Best Threshold=0.42, F-measure=0.84747\n"
     ]
    }
   ],
   "source": [
    "threshold_calibration(models_param, names, X_res, y_res)"
   ]
  },
  {
   "cell_type": "code",
   "execution_count": 214,
   "metadata": {},
   "outputs": [
    {
     "name": "stdout",
     "output_type": "stream",
     "text": [
      "xgb: AUC = 0.88381, F1-score = 0.84714\n"
     ]
    }
   ],
   "source": [
    "tuned_models_metrics('xgb', X_res, y_res, thres=0.43)"
   ]
  },
  {
   "cell_type": "markdown",
   "metadata": {},
   "source": [
    "We can see that with the use of oversampling we got slightly better scores than using undersampling. It is probably the reason of adding some extra samples from which model could better learn. The best score we got again on tunned XGBoost with threshold = 0.43."
   ]
  },
  {
   "cell_type": "markdown",
   "metadata": {},
   "source": [
    "### SMOTE"
   ]
  },
  {
   "cell_type": "code",
   "execution_count": 218,
   "metadata": {},
   "outputs": [],
   "source": [
    "smote = SMOTE(sampling_strategy='auto')\n",
    "X_res, y_res = smote.fit_resample(X, y)"
   ]
  },
  {
   "cell_type": "code",
   "execution_count": 219,
   "metadata": {},
   "outputs": [
    {
     "data": {
      "text/plain": [
       "((639106, 12), (382154, 12))"
      ]
     },
     "execution_count": 219,
     "metadata": {},
     "output_type": "execute_result"
    }
   ],
   "source": [
    "X_res.shape, X.shape"
   ]
  },
  {
   "cell_type": "code",
   "execution_count": 220,
   "metadata": {},
   "outputs": [
    {
     "data": {
      "text/plain": [
       "0.5"
      ]
     },
     "execution_count": 220,
     "metadata": {},
     "output_type": "execute_result"
    }
   ],
   "source": [
    "y_res.sum()/len(y_res)"
   ]
  },
  {
   "cell_type": "code",
   "execution_count": 221,
   "metadata": {},
   "outputs": [
    {
     "name": "stdout",
     "output_type": "stream",
     "text": [
      "LR: AUC = 0.87366, F1-score = 0.84307\n",
      "DT: AUC = 0.88443, F1-score = 0.84659\n",
      "RF: AUC = 0.88450, F1-score = 0.84659\n",
      "XGB: AUC = 0.88279, F1-score = 0.84653\n"
     ]
    }
   ],
   "source": [
    "get_models_metrics(models, names, X_res, y_res)"
   ]
  },
  {
   "cell_type": "code",
   "execution_count": 222,
   "metadata": {},
   "outputs": [
    {
     "name": "stdout",
     "output_type": "stream",
     "text": [
      "lr: AUC = 0.87366, F1-score = 0.84307\n"
     ]
    }
   ],
   "source": [
    "tuned_models_metrics('lr', X_res, y_res)"
   ]
  },
  {
   "cell_type": "code",
   "execution_count": 223,
   "metadata": {},
   "outputs": [
    {
     "name": "stdout",
     "output_type": "stream",
     "text": [
      "dt: AUC = 0.87656, F1-score = 0.84242\n"
     ]
    }
   ],
   "source": [
    "tuned_models_metrics('dt', X_res, y_res)"
   ]
  },
  {
   "cell_type": "code",
   "execution_count": 224,
   "metadata": {},
   "outputs": [
    {
     "name": "stdout",
     "output_type": "stream",
     "text": [
      "rf: AUC = 0.88451, F1-score = 0.84669\n"
     ]
    }
   ],
   "source": [
    "tuned_models_metrics('rf', X_res, y_res)"
   ]
  },
  {
   "cell_type": "code",
   "execution_count": 225,
   "metadata": {},
   "outputs": [
    {
     "name": "stdout",
     "output_type": "stream",
     "text": [
      "xgb: AUC = 0.88458, F1-score = 0.84714\n"
     ]
    }
   ],
   "source": [
    "tuned_models_metrics('xgb', X_res, y_res)"
   ]
  },
  {
   "cell_type": "code",
   "execution_count": 226,
   "metadata": {},
   "outputs": [
    {
     "name": "stdout",
     "output_type": "stream",
     "text": [
      "LR\n",
      "Best Threshold=0.45, F-measure=0.84386\n",
      "LR\n",
      "Best Threshold=0.45, F-measure=0.84508\n",
      "LR\n",
      "Best Threshold=0.46, F-measure=0.84514\n",
      "DT\n",
      "Best Threshold=0.52, F-measure=0.84298\n",
      "DT\n",
      "Best Threshold=0.51, F-measure=0.84473\n",
      "DT\n",
      "Best Threshold=0.52, F-measure=0.84472\n",
      "RF\n",
      "Best Threshold=0.42, F-measure=0.84787\n",
      "RF\n",
      "Best Threshold=0.37, F-measure=0.84875\n",
      "RF\n",
      "Best Threshold=0.39, F-measure=0.84908\n",
      "XGB\n",
      "Best Threshold=0.43, F-measure=0.84774\n",
      "XGB\n",
      "Best Threshold=0.42, F-measure=0.84858\n",
      "XGB\n",
      "Best Threshold=0.43, F-measure=0.84894\n"
     ]
    }
   ],
   "source": [
    "threshold_calibration(models_param, names, X_res, y_res)"
   ]
  },
  {
   "cell_type": "code",
   "execution_count": 227,
   "metadata": {},
   "outputs": [
    {
     "name": "stdout",
     "output_type": "stream",
     "text": [
      "xgb: AUC = 0.88458, F1-score = 0.84832\n"
     ]
    }
   ],
   "source": [
    "tuned_models_metrics('xgb', X_res, y_res, thres=0.43)"
   ]
  },
  {
   "cell_type": "markdown",
   "metadata": {},
   "source": [
    "For SMOTE resampling the scores of our models improved a little. We can try to use smote with different sampling strategy and check how it will affect the scoring."
   ]
  },
  {
   "cell_type": "code",
   "execution_count": null,
   "metadata": {},
   "outputs": [],
   "source": []
  },
  {
   "cell_type": "code",
   "execution_count": 237,
   "metadata": {},
   "outputs": [],
   "source": [
    "smote = SMOTE(sampling_strategy=0.5)\n",
    "X_res, y_res = smote.fit_resample(X, y)"
   ]
  },
  {
   "cell_type": "code",
   "execution_count": 238,
   "metadata": {},
   "outputs": [
    {
     "data": {
      "text/plain": [
       "0.33333263791675444"
      ]
     },
     "execution_count": 238,
     "metadata": {},
     "output_type": "execute_result"
    }
   ],
   "source": [
    "y_res.sum()/len(y_res)"
   ]
  },
  {
   "cell_type": "code",
   "execution_count": 239,
   "metadata": {},
   "outputs": [
    {
     "name": "stdout",
     "output_type": "stream",
     "text": [
      "LR: AUC = 0.87330, F1-score = 0.73235\n",
      "DT: AUC = 0.88353, F1-score = 0.73822\n",
      "RF: AUC = 0.88362, F1-score = 0.73842\n",
      "XGB: AUC = 0.88239, F1-score = 0.73483\n"
     ]
    }
   ],
   "source": [
    "get_models_metrics(models, names, X_res, y_res)"
   ]
  },
  {
   "cell_type": "markdown",
   "metadata": {},
   "source": [
    "We can see that when we reduce minority class size, scores of models also decrease."
   ]
  },
  {
   "cell_type": "markdown",
   "metadata": {},
   "source": [
    "### ADASYN"
   ]
  },
  {
   "cell_type": "code",
   "execution_count": 280,
   "metadata": {},
   "outputs": [
    {
     "name": "stdout",
     "output_type": "stream",
     "text": [
      "CPU times: user 7min 46s, sys: 1.84 s, total: 7min 47s\n",
      "Wall time: 4min 49s\n"
     ]
    }
   ],
   "source": [
    "%%time\n",
    "from imblearn.over_sampling import ADASYN\n",
    "\n",
    "adasyn = ADASYN(sampling_strategy='auto', n_jobs=-1)\n",
    "X_res, y_res = adasyn.fit_resample(X, y)"
   ]
  },
  {
   "cell_type": "code",
   "execution_count": 249,
   "metadata": {},
   "outputs": [
    {
     "data": {
      "text/plain": [
       "((635007, 12), (382154, 12))"
      ]
     },
     "execution_count": 249,
     "metadata": {},
     "output_type": "execute_result"
    }
   ],
   "source": [
    "X_res.shape, X.shape"
   ]
  },
  {
   "cell_type": "code",
   "execution_count": 254,
   "metadata": {},
   "outputs": [
    {
     "data": {
      "text/plain": [
       "0.49677247652388085"
      ]
     },
     "execution_count": 254,
     "metadata": {},
     "output_type": "execute_result"
    }
   ],
   "source": [
    "y_res.sum()/len(y_res)"
   ]
  },
  {
   "cell_type": "code",
   "execution_count": 257,
   "metadata": {},
   "outputs": [
    {
     "name": "stdout",
     "output_type": "stream",
     "text": [
      "LR: AUC = 0.85597, F1-score = 0.83530\n",
      "DT: AUC = 0.87886, F1-score = 0.83701\n",
      "RF: AUC = 0.87891, F1-score = 0.83704\n",
      "XGB: AUC = 0.86768, F1-score = 0.83734\n"
     ]
    }
   ],
   "source": [
    "get_models_metrics(models, names, X_res, y_res)"
   ]
  },
  {
   "cell_type": "code",
   "execution_count": 244,
   "metadata": {},
   "outputs": [
    {
     "name": "stdout",
     "output_type": "stream",
     "text": [
      "lr: AUC = 0.85597, F1-score = 0.83609\n"
     ]
    }
   ],
   "source": [
    "tuned_models_metrics('lr', X_res, y_res)"
   ]
  },
  {
   "cell_type": "code",
   "execution_count": 245,
   "metadata": {},
   "outputs": [
    {
     "name": "stdout",
     "output_type": "stream",
     "text": [
      "dt: AUC = 0.85692, F1-score = 0.83558\n"
     ]
    }
   ],
   "source": [
    "tuned_models_metrics('dt', X_res, y_res)"
   ]
  },
  {
   "cell_type": "code",
   "execution_count": 262,
   "metadata": {},
   "outputs": [
    {
     "name": "stdout",
     "output_type": "stream",
     "text": [
      "rf: AUC = 0.87891, F1-score = 0.83700\n"
     ]
    }
   ],
   "source": [
    "tuned_models_metrics('rf', X_res, y_res)"
   ]
  },
  {
   "cell_type": "code",
   "execution_count": 247,
   "metadata": {},
   "outputs": [
    {
     "name": "stdout",
     "output_type": "stream",
     "text": [
      "xgb: AUC = 0.87610, F1-score = 0.83715\n"
     ]
    }
   ],
   "source": [
    "tuned_models_metrics('xgb', X_res, y_res)"
   ]
  },
  {
   "cell_type": "code",
   "execution_count": 281,
   "metadata": {},
   "outputs": [
    {
     "name": "stdout",
     "output_type": "stream",
     "text": [
      "LR\n",
      "Best Threshold=0.40, F-measure=0.83731\n",
      "LR\n",
      "Best Threshold=0.43, F-measure=0.83844\n",
      "LR\n",
      "Best Threshold=0.44, F-measure=0.83817\n",
      "DT\n",
      "Best Threshold=0.44, F-measure=0.83779\n",
      "DT\n",
      "Best Threshold=0.45, F-measure=0.83841\n",
      "DT\n",
      "Best Threshold=0.48, F-measure=0.83852\n",
      "RF\n",
      "Best Threshold=0.39, F-measure=0.83932\n",
      "RF\n",
      "Best Threshold=0.41, F-measure=0.84067\n",
      "RF\n",
      "Best Threshold=0.40, F-measure=0.83998\n",
      "XGB\n",
      "Best Threshold=0.43, F-measure=0.83911\n",
      "XGB\n",
      "Best Threshold=0.42, F-measure=0.84036\n",
      "XGB\n",
      "Best Threshold=0.41, F-measure=0.83983\n"
     ]
    }
   ],
   "source": [
    "threshold_calibration(models_param, names, X_res, y_res)"
   ]
  },
  {
   "cell_type": "code",
   "execution_count": 282,
   "metadata": {},
   "outputs": [
    {
     "name": "stdout",
     "output_type": "stream",
     "text": [
      "rf: AUC = 0.87890, F1-score = 0.83989\n"
     ]
    }
   ],
   "source": [
    "tuned_models_metrics('rf', X_res, y_res, thres=0.41)"
   ]
  },
  {
   "cell_type": "markdown",
   "metadata": {},
   "source": [
    "We can see that ADASYN also improved metrics of our models but were less effective than SMOTE."
   ]
  },
  {
   "cell_type": "markdown",
   "metadata": {},
   "source": [
    "## Oversampling and Underampling"
   ]
  },
  {
   "cell_type": "code",
   "execution_count": 283,
   "metadata": {},
   "outputs": [
    {
     "name": "stdout",
     "output_type": "stream",
     "text": [
      "CPU times: user 59min 48s, sys: 5.55 s, total: 59min 53s\n",
      "Wall time: 26min 49s\n"
     ]
    }
   ],
   "source": [
    "%%time\n",
    "from imblearn.combine import SMOTETomek\n",
    "\n",
    "smt = SMOTETomek(n_jobs=-1)\n",
    "\n",
    "X_res, y_res = smt.fit_resample(X, y)"
   ]
  },
  {
   "cell_type": "code",
   "execution_count": 269,
   "metadata": {},
   "outputs": [
    {
     "data": {
      "text/plain": [
       "((639106, 12), (382154, 12))"
      ]
     },
     "execution_count": 269,
     "metadata": {},
     "output_type": "execute_result"
    }
   ],
   "source": [
    "X_res.shape, X.shape"
   ]
  },
  {
   "cell_type": "code",
   "execution_count": 270,
   "metadata": {},
   "outputs": [
    {
     "data": {
      "text/plain": [
       "0.5"
      ]
     },
     "execution_count": 270,
     "metadata": {},
     "output_type": "execute_result"
    }
   ],
   "source": [
    "y_res.sum()/len(y_res)"
   ]
  },
  {
   "cell_type": "code",
   "execution_count": 271,
   "metadata": {},
   "outputs": [
    {
     "name": "stdout",
     "output_type": "stream",
     "text": [
      "LR: AUC = 0.87378, F1-score = 0.84340\n",
      "DT: AUC = 0.88440, F1-score = 0.84682\n",
      "RF: AUC = 0.88442, F1-score = 0.84696\n",
      "XGB: AUC = 0.88269, F1-score = 0.84672\n"
     ]
    }
   ],
   "source": [
    "get_models_metrics(models, names, X_res, y_res)"
   ]
  },
  {
   "cell_type": "code",
   "execution_count": 272,
   "metadata": {},
   "outputs": [
    {
     "name": "stdout",
     "output_type": "stream",
     "text": [
      "lr: AUC = 0.87380, F1-score = 0.84339\n"
     ]
    }
   ],
   "source": [
    "tuned_models_metrics('lr', X_res, y_res)"
   ]
  },
  {
   "cell_type": "code",
   "execution_count": 273,
   "metadata": {},
   "outputs": [
    {
     "name": "stdout",
     "output_type": "stream",
     "text": [
      "dt: AUC = 0.87245, F1-score = 0.84001\n"
     ]
    }
   ],
   "source": [
    "tuned_models_metrics('dt', X_res, y_res)"
   ]
  },
  {
   "cell_type": "code",
   "execution_count": 274,
   "metadata": {},
   "outputs": [
    {
     "name": "stdout",
     "output_type": "stream",
     "text": [
      "rf: AUC = 0.88444, F1-score = 0.84696\n"
     ]
    }
   ],
   "source": [
    "tuned_models_metrics('rf', X_res, y_res)"
   ]
  },
  {
   "cell_type": "code",
   "execution_count": 275,
   "metadata": {},
   "outputs": [
    {
     "name": "stdout",
     "output_type": "stream",
     "text": [
      "xgb: AUC = 0.88442, F1-score = 0.84719\n"
     ]
    }
   ],
   "source": [
    "tuned_models_metrics('xgb', X_res, y_res)"
   ]
  },
  {
   "cell_type": "code",
   "execution_count": 284,
   "metadata": {},
   "outputs": [
    {
     "name": "stdout",
     "output_type": "stream",
     "text": [
      "LR\n",
      "Best Threshold=0.45, F-measure=0.84394\n",
      "LR\n",
      "Best Threshold=0.45, F-measure=0.84487\n",
      "LR\n",
      "Best Threshold=0.46, F-measure=0.84514\n",
      "DT\n",
      "Best Threshold=0.41, F-measure=0.84362\n",
      "DT\n",
      "Best Threshold=0.54, F-measure=0.84409\n",
      "DT\n",
      "Best Threshold=0.52, F-measure=0.84435\n",
      "RF\n",
      "Best Threshold=0.41, F-measure=0.84753\n",
      "RF\n",
      "Best Threshold=0.41, F-measure=0.84867\n",
      "RF\n",
      "Best Threshold=0.43, F-measure=0.84874\n",
      "XGB\n",
      "Best Threshold=0.44, F-measure=0.84736\n",
      "XGB\n",
      "Best Threshold=0.43, F-measure=0.84853\n",
      "XGB\n",
      "Best Threshold=0.42, F-measure=0.84871\n"
     ]
    }
   ],
   "source": [
    "threshold_calibration(models_param, names, X_res, y_res)"
   ]
  },
  {
   "cell_type": "code",
   "execution_count": 286,
   "metadata": {},
   "outputs": [
    {
     "name": "stdout",
     "output_type": "stream",
     "text": [
      "rf: AUC = 0.88413, F1-score = 0.84825\n"
     ]
    }
   ],
   "source": [
    "tuned_models_metrics('rf', X_res, y_res, thres=0.41)"
   ]
  },
  {
   "cell_type": "code",
   "execution_count": 292,
   "metadata": {},
   "outputs": [
    {
     "name": "stdout",
     "output_type": "stream",
     "text": [
      "xgb: AUC = 0.88423, F1-score = 0.84792\n"
     ]
    }
   ],
   "source": [
    "tuned_models_metrics('xgb', X_res, y_res, thres=0.44)"
   ]
  },
  {
   "cell_type": "markdown",
   "metadata": {},
   "source": [
    "For SMOTETomek our baseline models have better scores than with usng SMOTE alone. When I tunned xgb with threshold = 0.44 I got the best score from all of the tests. For that reason I consider SMOTETomek as a best resampling method for our dataset."
   ]
  },
  {
   "cell_type": "markdown",
   "metadata": {},
   "source": [
    "# GreedSearchCV for XGBoost."
   ]
  },
  {
   "cell_type": "markdown",
   "metadata": {},
   "source": [
    "In this step I will try try to get better score for XGBoost algorithm by using GreedSearcgCV."
   ]
  },
  {
   "cell_type": "code",
   "execution_count": 298,
   "metadata": {},
   "outputs": [
    {
     "name": "stdout",
     "output_type": "stream",
     "text": [
      "Fitting 3 folds for each of 20 candidates, totalling 60 fits\n",
      "[Parallel(n_jobs=-1)]: Using backend LokyBackend with 4 concurrent workers.\n",
      "[Parallel(n_jobs=-1)]: Done   1 tasks      | elapsed:  2.1min\n",
      "[Parallel(n_jobs=-1)]: Done   2 tasks      | elapsed:  2.1min\n",
      "[Parallel(n_jobs=-1)]: Done   3 tasks      | elapsed:  2.1min\n",
      "[Parallel(n_jobs=-1)]: Done   4 tasks      | elapsed:  2.3min\n",
      "[Parallel(n_jobs=-1)]: Done   5 tasks      | elapsed:  2.5min\n",
      "[Parallel(n_jobs=-1)]: Done   6 tasks      | elapsed:  2.6min\n",
      "[Parallel(n_jobs=-1)]: Done   7 tasks      | elapsed:  3.0min\n",
      "[Parallel(n_jobs=-1)]: Done   8 tasks      | elapsed:  4.5min\n",
      "[Parallel(n_jobs=-1)]: Done   9 tasks      | elapsed:  4.8min\n",
      "[Parallel(n_jobs=-1)]: Done  10 tasks      | elapsed:  4.9min\n",
      "[Parallel(n_jobs=-1)]: Done  11 tasks      | elapsed:  4.9min\n",
      "[Parallel(n_jobs=-1)]: Done  12 tasks      | elapsed:  6.4min\n",
      "[Parallel(n_jobs=-1)]: Done  13 tasks      | elapsed:  7.5min\n",
      "[Parallel(n_jobs=-1)]: Done  14 tasks      | elapsed:  8.6min\n",
      "[Parallel(n_jobs=-1)]: Done  15 tasks      | elapsed:  9.7min\n",
      "[Parallel(n_jobs=-1)]: Done  16 tasks      | elapsed: 10.0min\n",
      "[Parallel(n_jobs=-1)]: Done  17 tasks      | elapsed: 10.3min\n",
      "[Parallel(n_jobs=-1)]: Done  18 tasks      | elapsed: 10.3min\n",
      "[Parallel(n_jobs=-1)]: Done  19 tasks      | elapsed: 10.4min\n",
      "[Parallel(n_jobs=-1)]: Done  20 tasks      | elapsed: 10.5min\n",
      "[Parallel(n_jobs=-1)]: Done  21 tasks      | elapsed: 10.6min\n",
      "[Parallel(n_jobs=-1)]: Done  22 tasks      | elapsed: 13.0min\n",
      "[Parallel(n_jobs=-1)]: Done  23 tasks      | elapsed: 13.2min\n",
      "[Parallel(n_jobs=-1)]: Done  24 tasks      | elapsed: 13.2min\n",
      "[Parallel(n_jobs=-1)]: Done  25 tasks      | elapsed: 16.0min\n",
      "[Parallel(n_jobs=-1)]: Done  26 tasks      | elapsed: 18.6min\n",
      "[Parallel(n_jobs=-1)]: Done  27 tasks      | elapsed: 18.7min\n",
      "[Parallel(n_jobs=-1)]: Done  28 tasks      | elapsed: 18.8min\n",
      "[Parallel(n_jobs=-1)]: Done  29 tasks      | elapsed: 21.3min\n",
      "[Parallel(n_jobs=-1)]: Done  30 tasks      | elapsed: 21.5min\n",
      "[Parallel(n_jobs=-1)]: Done  31 tasks      | elapsed: 21.5min\n",
      "[Parallel(n_jobs=-1)]: Done  32 tasks      | elapsed: 22.4min\n",
      "[Parallel(n_jobs=-1)]: Done  33 tasks      | elapsed: 22.4min\n",
      "[Parallel(n_jobs=-1)]: Done  34 tasks      | elapsed: 23.3min\n",
      "[Parallel(n_jobs=-1)]: Done  35 tasks      | elapsed: 23.9min\n",
      "[Parallel(n_jobs=-1)]: Done  36 tasks      | elapsed: 24.0min\n",
      "[Parallel(n_jobs=-1)]: Done  37 tasks      | elapsed: 28.0min\n",
      "[Parallel(n_jobs=-1)]: Done  38 tasks      | elapsed: 29.0min\n",
      "[Parallel(n_jobs=-1)]: Done  39 tasks      | elapsed: 29.4min\n",
      "[Parallel(n_jobs=-1)]: Done  40 tasks      | elapsed: 29.6min\n",
      "[Parallel(n_jobs=-1)]: Done  41 tasks      | elapsed: 33.7min\n",
      "[Parallel(n_jobs=-1)]: Done  42 tasks      | elapsed: 34.6min\n",
      "[Parallel(n_jobs=-1)]: Done  43 tasks      | elapsed: 34.9min\n",
      "[Parallel(n_jobs=-1)]: Done  44 tasks      | elapsed: 35.1min\n",
      "[Parallel(n_jobs=-1)]: Done  45 tasks      | elapsed: 37.2min\n",
      "[Parallel(n_jobs=-1)]: Done  46 tasks      | elapsed: 37.5min\n",
      "[Parallel(n_jobs=-1)]: Done  47 tasks      | elapsed: 37.6min\n",
      "[Parallel(n_jobs=-1)]: Done  48 tasks      | elapsed: 37.8min\n",
      "[Parallel(n_jobs=-1)]: Done  49 tasks      | elapsed: 37.8min\n",
      "[Parallel(n_jobs=-1)]: Done  50 tasks      | elapsed: 37.9min\n",
      "[Parallel(n_jobs=-1)]: Done  51 tasks      | elapsed: 37.9min\n",
      "[Parallel(n_jobs=-1)]: Done  52 tasks      | elapsed: 37.9min\n",
      "[Parallel(n_jobs=-1)]: Done  53 tasks      | elapsed: 38.0min\n",
      "[Parallel(n_jobs=-1)]: Done  54 out of  60 | elapsed: 39.2min remaining:  4.4min\n",
      "[Parallel(n_jobs=-1)]: Done  55 out of  60 | elapsed: 39.4min remaining:  3.6min\n",
      "[Parallel(n_jobs=-1)]: Done  56 out of  60 | elapsed: 39.7min remaining:  2.8min\n",
      "[Parallel(n_jobs=-1)]: Done  57 out of  60 | elapsed: 40.0min remaining:  2.1min\n",
      "[Parallel(n_jobs=-1)]: Done  58 out of  60 | elapsed: 40.5min remaining:  1.4min\n",
      "[Parallel(n_jobs=-1)]: Done  60 out of  60 | elapsed: 40.6min remaining:    0.0s\n",
      "[Parallel(n_jobs=-1)]: Done  60 out of  60 | elapsed: 40.6min finished\n"
     ]
    },
    {
     "data": {
      "text/plain": [
       "RandomizedSearchCV(cv=3, estimator=XGBClassifier(), n_iter=20, n_jobs=-1,\n",
       "                   param_distributions={'learning_rate': <scipy.stats._distn_infrastructure.rv_frozen object at 0x7f60fdb43100>,\n",
       "                                        'max_depth': <scipy.stats._distn_infrastructure.rv_frozen object at 0x7f60fb099430>,\n",
       "                                        'max_leaves': [10, 12, 20],\n",
       "                                        'min_child_weight': <scipy.stats._distn_infrastructure.rv_frozen object at 0x7f60fb082bb0>,\n",
       "                                        'n_estimators': [10, 100, 200],\n",
       "                                        'reg_lambda': <scipy.stats._distn_infrastructure.rv_frozen object at 0x7f60fdb43640>},\n",
       "                   scoring='f1', verbose=100)"
      ]
     },
     "execution_count": 298,
     "metadata": {},
     "output_type": "execute_result"
    }
   ],
   "source": [
    "xgb = XGBClassifier()\n",
    "params = {\"n_estimators\":[10,100,200],\n",
    "         \"learning_rate\":ss.uniform(0.01,0.3),\n",
    "          \"max_depth\": ss.randint(5,30),\n",
    "         \"min_child_weight\":ss.randint(5,50),\n",
    "         \"reg_lambda\":ss.uniform(0.1,3),\n",
    "         \"max_leaves\":[10,12,20]}\n",
    "\n",
    "cvgs = RandomizedSearchCV(cv=3, \n",
    "                        estimator=xgb,\n",
    "                        param_distributions=params,\n",
    "                        n_iter=20,\n",
    "                        verbose=100,\n",
    "                        scoring='f1',\n",
    "                        n_jobs=-1)\n",
    "cvgs.fit(X_res,y_res)"
   ]
  },
  {
   "cell_type": "code",
   "execution_count": 299,
   "metadata": {},
   "outputs": [
    {
     "data": {
      "text/plain": [
       "(0.8466492464109039,\n",
       " {'learning_rate': 0.23530105903146123,\n",
       "  'max_depth': 9,\n",
       "  'max_leaves': 10,\n",
       "  'min_child_weight': 13,\n",
       "  'n_estimators': 100,\n",
       "  'reg_lambda': 1.5489323990151924})"
      ]
     },
     "execution_count": 299,
     "metadata": {},
     "output_type": "execute_result"
    }
   ],
   "source": [
    "cvgs.best_score_, cvgs.best_params_"
   ]
  },
  {
   "cell_type": "code",
   "execution_count": 340,
   "metadata": {},
   "outputs": [],
   "source": [
    "best_model = [XGBClassifier(learning_rate=0.23530105903146123,\n",
    "                            max_depth=9,\n",
    "                            max_leaves=10,\n",
    "                            min_child_weight=13,\n",
    "                            n_estimators=100,\n",
    "                            reg_lambda=1.5489323990151924)]\n",
    "best_name = ['xgb']"
   ]
  },
  {
   "cell_type": "code",
   "execution_count": 341,
   "metadata": {},
   "outputs": [],
   "source": [
    "# in this loop i want to extract from xgboost model probabilities for the target, and then in teh next step\n",
    "# print a confusion matrix\n",
    "    for model, name in zip(best_model, best_name):\n",
    "        \n",
    "        probas_model = np.zeros(len(X_res))\n",
    "        \n",
    "        for train_index, test_index in folds.split(X_res, y_res):\n",
    "            X_train, X_test = X_res.iloc[train_index], X_res.iloc[test_index]\n",
    "            y_train, y_test = y_res.iloc[train_index], y_res.iloc[test_index]\n",
    "        \n",
    "            model.fit(X_train, y_train)\n",
    "            probas_model[test_index] = model.predict_proba(X_test)[:, 1]"
   ]
  },
  {
   "cell_type": "code",
   "execution_count": 306,
   "metadata": {},
   "outputs": [],
   "source": [
    "from sklearn.metrics import confusion_matrix"
   ]
  },
  {
   "cell_type": "markdown",
   "metadata": {},
   "source": [
    "# Confusion matrix."
   ]
  },
  {
   "cell_type": "markdown",
   "metadata": {},
   "source": [
    "For the last step in my anasysis I am creating confusion matrix for xgb to evaluate the accuracy of a classification."
   ]
  },
  {
   "cell_type": "code",
   "execution_count": 344,
   "metadata": {
    "scrolled": true
   },
   "outputs": [
    {
     "data": {
      "text/plain": [
       "<matplotlib.axes._subplots.AxesSubplot at 0x7f60f9c36e80>"
      ]
     },
     "execution_count": 344,
     "metadata": {},
     "output_type": "execute_result"
    },
    {
     "data": {
      "image/png": "[encoded data removed]",
      "text/plain": [
       "<Figure size 576x432 with 2 Axes>"
      ]
     },
     "metadata": {},
     "output_type": "display_data"
    }
   ],
   "source": [
    "probas_model = np.where(probas_model > 0.5, 1, 0)\n",
    "cf_matrix = confusion_matrix(y_res, probas_model) \n",
    "group_names = ['True Neg','False Pos','False Neg','True Pos']\n",
    "group_counts = [\"{0:0.0f}\".format(value) for value in\n",
    "                cf_matrix.flatten()]\n",
    "group_percentages = [\"{0:.2%}\".format(value) for value in\n",
    "                     cf_matrix.flatten()/np.sum(cf_matrix)]\n",
    "labels = [f\"{v1}\\n{v2}\\n{v3}\" for v1, v2, v3 in\n",
    "          zip(group_names,group_counts,group_percentages)]\n",
    "labels = np.asarray(labels).reshape(2,2)\n",
    "plt.figure(figsize=(8, 6))\n",
    "sns.set(font_scale=1.4)\n",
    "plt.style.use('seaborn-poster')\n",
    "sns.heatmap(cf_matrix, annot=labels, fmt='', cmap='Greens')"
   ]
  },
  {
   "cell_type": "markdown",
   "metadata": {},
   "source": [
    "We can see that our model predicts TP very good but also has a small problem with prediction TN correct."
   ]
  },
  {
   "cell_type": "markdown",
   "metadata": {},
   "source": [
    "# Conclusions"
   ]
  },
  {
   "cell_type": "markdown",
   "metadata": {},
   "source": [
    "* The bussines problem was to find the segment of clients which will be the most willing to get car insurance,\n",
    "* The problem was imbalanced, therefore I had to prepare the dataset and then use different resampling methods to improve algorithms get better performance,\n",
    "* For this bussines problem I've choosen F1-score to test and evaluate models becasue this metric works very good on imbalanced data and we were more focused on predicting possitive class,\n",
    "* SMOTE and SMOTETomek were two resampling methods which were the most appropriate for our dataset,\n",
    "* XGBoost algorithm had the best results, after tunning it had approximately AUC: 0,88 and F1-score: 0,85."
   ]
  }
 ],
 "metadata": {
  "kernelspec": {
   "display_name": "Python 3",
   "language": "python",
   "name": "python3"
  },
  "language_info": {
   "codemirror_mode": {
    "name": "ipython",
    "version": 3
   },
   "file_extension": ".py",
   "mimetype": "text/x-python",
   "name": "python",
   "nbconvert_exporter": "python",
   "pygments_lexer": "ipython3",
   "version": "3.8.3"
  }
 },
 "nbformat": 4,
 "nbformat_minor": 4
}
